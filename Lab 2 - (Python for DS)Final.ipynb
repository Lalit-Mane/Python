{
 "cells": [
  {
   "cell_type": "markdown",
   "id": "1bd3906b",
   "metadata": {
    "id": "1bd3906b"
   },
   "source": [
    "## Lab Session "
   ]
  },
  {
   "cell_type": "markdown",
   "id": "ccfb2855",
   "metadata": {
    "id": "ccfb2855"
   },
   "source": [
    "### Learning Objective:\n",
    "- Working with data using python libaries.\n",
    "- Data Visualization.\n",
    "- Exploratory data analysis and data preprocessing.\n",
    "- Building a Linear regression model to predict the tip amount based on different input features."
   ]
  },
  {
   "cell_type": "markdown",
   "id": "61ef0de3",
   "metadata": {
    "id": "61ef0de3"
   },
   "source": [
    "### About the dataset (Customer Tip Data)\n",
    "\n",
    "#### Dataset Source: https://www.kaggle.com/datasets/ranjeetjain3/seaborn-tips-dataset\n",
    "\n",
    "The dataset contains information about the 244 orders served at a restaurant in the United States. Each observation includes the factors related to the order like total bill, time, the total number of people in a group, gender of the person paying for the order and so on.\n",
    "\n",
    "#### Attribute Information:\n",
    "\n",
    "- **total_bill:** Total bill (cost of the meal), including tax, in US dollars\n",
    "- **tip:** Tip in US dollars\n",
    "- **sex:** Sex of person paying for the meal\n",
    "- **smoker:** There is a smoker in a group or not\n",
    "- **day:** Day on which the order is served\n",
    "- **time:** Time of the order\n",
    "- **size:** Size of the group\n",
    "\n",
    "Food servers’ tips in restaurants may be influenced by many factors, including the nature of the restaurant, size of the party, and table locations in the restaurant. Restaurant managers need to know which factors matter when they assign tables to food servers. For the sake of staff morale, they usually want to avoid either the substance or the appearance of unfair\n",
    "treatment of the servers, for whom tips (at least in restaurants in the UnitedStates) are a major component of pay."
   ]
  },
  {
   "cell_type": "code",
   "execution_count": 1,
   "id": "222c2518",
   "metadata": {},
   "outputs": [],
   "source": [
    "import os"
   ]
  },
  {
   "cell_type": "code",
   "execution_count": 2,
   "id": "1177dd6c",
   "metadata": {},
   "outputs": [
    {
     "data": {
      "text/plain": [
       "'C:\\\\Users\\\\USER'"
      ]
     },
     "execution_count": 2,
     "metadata": {},
     "output_type": "execute_result"
    }
   ],
   "source": [
    "os.getcwd()"
   ]
  },
  {
   "cell_type": "code",
   "execution_count": 3,
   "id": "d2c9d4f2",
   "metadata": {},
   "outputs": [],
   "source": [
    "os.chdir(\"C:\\\\Users\\\\USER\\\\Downloads\")"
   ]
  },
  {
   "cell_type": "markdown",
   "id": "e4e44e06",
   "metadata": {
    "id": "e4e44e06"
   },
   "source": [
    "### Import required libraries"
   ]
  },
  {
   "cell_type": "code",
   "execution_count": 4,
   "id": "89b9d6d7",
   "metadata": {
    "id": "89b9d6d7"
   },
   "outputs": [],
   "source": [
    "import pandas as pd"
   ]
  },
  {
   "cell_type": "markdown",
   "id": "9ead3dea",
   "metadata": {
    "id": "9ead3dea"
   },
   "source": [
    "### Load the dataset"
   ]
  },
  {
   "cell_type": "code",
   "execution_count": 5,
   "id": "a9ba115f",
   "metadata": {
    "id": "a9ba115f"
   },
   "outputs": [],
   "source": [
    "data = pd.read_csv('tips.csv')"
   ]
  },
  {
   "cell_type": "code",
   "execution_count": 6,
   "id": "8e77ddbb",
   "metadata": {},
   "outputs": [
    {
     "data": {
      "text/html": [
       "<div>\n",
       "<style scoped>\n",
       "    .dataframe tbody tr th:only-of-type {\n",
       "        vertical-align: middle;\n",
       "    }\n",
       "\n",
       "    .dataframe tbody tr th {\n",
       "        vertical-align: top;\n",
       "    }\n",
       "\n",
       "    .dataframe thead th {\n",
       "        text-align: right;\n",
       "    }\n",
       "</style>\n",
       "<table border=\"1\" class=\"dataframe\">\n",
       "  <thead>\n",
       "    <tr style=\"text-align: right;\">\n",
       "      <th></th>\n",
       "      <th>total_bill</th>\n",
       "      <th>tip</th>\n",
       "      <th>sex</th>\n",
       "      <th>smoker</th>\n",
       "      <th>day</th>\n",
       "      <th>time</th>\n",
       "      <th>size</th>\n",
       "    </tr>\n",
       "  </thead>\n",
       "  <tbody>\n",
       "    <tr>\n",
       "      <th>0</th>\n",
       "      <td>16.99</td>\n",
       "      <td>1.01</td>\n",
       "      <td>Female</td>\n",
       "      <td>No</td>\n",
       "      <td>Sun</td>\n",
       "      <td>Dinner</td>\n",
       "      <td>2</td>\n",
       "    </tr>\n",
       "    <tr>\n",
       "      <th>1</th>\n",
       "      <td>10.34</td>\n",
       "      <td>1.66</td>\n",
       "      <td>Male</td>\n",
       "      <td>No</td>\n",
       "      <td>Sun</td>\n",
       "      <td>Dinner</td>\n",
       "      <td>3</td>\n",
       "    </tr>\n",
       "    <tr>\n",
       "      <th>2</th>\n",
       "      <td>21.01</td>\n",
       "      <td>3.50</td>\n",
       "      <td>Male</td>\n",
       "      <td>No</td>\n",
       "      <td>Sun</td>\n",
       "      <td>Dinner</td>\n",
       "      <td>3</td>\n",
       "    </tr>\n",
       "    <tr>\n",
       "      <th>3</th>\n",
       "      <td>23.68</td>\n",
       "      <td>3.31</td>\n",
       "      <td>Male</td>\n",
       "      <td>No</td>\n",
       "      <td>Sun</td>\n",
       "      <td>Dinner</td>\n",
       "      <td>2</td>\n",
       "    </tr>\n",
       "    <tr>\n",
       "      <th>4</th>\n",
       "      <td>24.59</td>\n",
       "      <td>3.61</td>\n",
       "      <td>Female</td>\n",
       "      <td>No</td>\n",
       "      <td>Sun</td>\n",
       "      <td>Dinner</td>\n",
       "      <td>4</td>\n",
       "    </tr>\n",
       "  </tbody>\n",
       "</table>\n",
       "</div>"
      ],
      "text/plain": [
       "   total_bill   tip     sex smoker  day    time  size\n",
       "0       16.99  1.01  Female     No  Sun  Dinner     2\n",
       "1       10.34  1.66    Male     No  Sun  Dinner     3\n",
       "2       21.01  3.50    Male     No  Sun  Dinner     3\n",
       "3       23.68  3.31    Male     No  Sun  Dinner     2\n",
       "4       24.59  3.61  Female     No  Sun  Dinner     4"
      ]
     },
     "execution_count": 6,
     "metadata": {},
     "output_type": "execute_result"
    }
   ],
   "source": [
    "data.head()"
   ]
  },
  {
   "cell_type": "markdown",
   "id": "42cd8e14",
   "metadata": {
    "id": "42cd8e14"
   },
   "source": [
    "### 1. Make a list of categorical and numerical columns in the data."
   ]
  },
  {
   "cell_type": "code",
   "execution_count": 7,
   "id": "abc60524",
   "metadata": {
    "id": "abc60524"
   },
   "outputs": [
    {
     "data": {
      "text/plain": [
       "total_bill    float64\n",
       "tip           float64\n",
       "sex            object\n",
       "smoker         object\n",
       "day            object\n",
       "time           object\n",
       "size            int64\n",
       "dtype: object"
      ]
     },
     "execution_count": 7,
     "metadata": {},
     "output_type": "execute_result"
    }
   ],
   "source": [
    "data.dtypes"
   ]
  },
  {
   "cell_type": "code",
   "execution_count": 8,
   "id": "6049dd10",
   "metadata": {},
   "outputs": [
    {
     "data": {
      "text/plain": [
       "Index(['total_bill', 'tip', 'size'], dtype='object')"
      ]
     },
     "execution_count": 8,
     "metadata": {},
     "output_type": "execute_result"
    }
   ],
   "source": [
    "data.select_dtypes(['float64' , 'int64']).columns"
   ]
  },
  {
   "cell_type": "code",
   "execution_count": 9,
   "id": "a414ee09",
   "metadata": {},
   "outputs": [
    {
     "data": {
      "text/plain": [
       "Index(['sex', 'smoker', 'day', 'time'], dtype='object')"
      ]
     },
     "execution_count": 9,
     "metadata": {},
     "output_type": "execute_result"
    }
   ],
   "source": [
    "data.select_dtypes(['object']).columns"
   ]
  },
  {
   "cell_type": "markdown",
   "id": "41ef8841",
   "metadata": {
    "id": "41ef8841"
   },
   "source": [
    "### 2. Compute the average bill amount for each day."
   ]
  },
  {
   "cell_type": "code",
   "execution_count": 10,
   "id": "75b5c0f2",
   "metadata": {
    "id": "75b5c0f2"
   },
   "outputs": [
    {
     "data": {
      "text/plain": [
       "day\n",
       "Fri     17.151579\n",
       "Sat     20.441379\n",
       "Sun     21.410000\n",
       "Thur    17.682742\n",
       "Name: total_bill, dtype: float64"
      ]
     },
     "execution_count": 10,
     "metadata": {},
     "output_type": "execute_result"
    }
   ],
   "source": [
    "data.groupby('day')['total_bill'].mean()"
   ]
  },
  {
   "cell_type": "markdown",
   "id": "18894954",
   "metadata": {
    "id": "18894954"
   },
   "source": [
    "### 3. Which gender is more generous in giving tips?"
   ]
  },
  {
   "cell_type": "code",
   "execution_count": 11,
   "id": "f506a83a",
   "metadata": {
    "id": "f506a83a"
   },
   "outputs": [
    {
     "data": {
      "text/plain": [
       "sex\n",
       "Female    246.51\n",
       "Male      485.07\n",
       "Name: tip, dtype: float64"
      ]
     },
     "execution_count": 11,
     "metadata": {},
     "output_type": "execute_result"
    }
   ],
   "source": [
    "data.groupby('sex')['tip'].sum()"
   ]
  },
  {
   "cell_type": "markdown",
   "id": "984e3dbf",
   "metadata": {
    "id": "984e3dbf"
   },
   "source": [
    "### 4. According to the data, were there more customers for dinner or lunch?"
   ]
  },
  {
   "cell_type": "code",
   "execution_count": 12,
   "id": "d5cabe95",
   "metadata": {
    "id": "d5cabe95"
   },
   "outputs": [
    {
     "data": {
      "text/html": [
       "<div>\n",
       "<style scoped>\n",
       "    .dataframe tbody tr th:only-of-type {\n",
       "        vertical-align: middle;\n",
       "    }\n",
       "\n",
       "    .dataframe tbody tr th {\n",
       "        vertical-align: top;\n",
       "    }\n",
       "\n",
       "    .dataframe thead th {\n",
       "        text-align: right;\n",
       "    }\n",
       "</style>\n",
       "<table border=\"1\" class=\"dataframe\">\n",
       "  <thead>\n",
       "    <tr style=\"text-align: right;\">\n",
       "      <th></th>\n",
       "      <th>total_bill</th>\n",
       "      <th>tip</th>\n",
       "      <th>sex</th>\n",
       "      <th>smoker</th>\n",
       "      <th>day</th>\n",
       "      <th>time</th>\n",
       "      <th>size</th>\n",
       "    </tr>\n",
       "  </thead>\n",
       "  <tbody>\n",
       "    <tr>\n",
       "      <th>0</th>\n",
       "      <td>16.99</td>\n",
       "      <td>1.01</td>\n",
       "      <td>Female</td>\n",
       "      <td>No</td>\n",
       "      <td>Sun</td>\n",
       "      <td>Dinner</td>\n",
       "      <td>2</td>\n",
       "    </tr>\n",
       "    <tr>\n",
       "      <th>1</th>\n",
       "      <td>10.34</td>\n",
       "      <td>1.66</td>\n",
       "      <td>Male</td>\n",
       "      <td>No</td>\n",
       "      <td>Sun</td>\n",
       "      <td>Dinner</td>\n",
       "      <td>3</td>\n",
       "    </tr>\n",
       "    <tr>\n",
       "      <th>2</th>\n",
       "      <td>21.01</td>\n",
       "      <td>3.50</td>\n",
       "      <td>Male</td>\n",
       "      <td>No</td>\n",
       "      <td>Sun</td>\n",
       "      <td>Dinner</td>\n",
       "      <td>3</td>\n",
       "    </tr>\n",
       "    <tr>\n",
       "      <th>3</th>\n",
       "      <td>23.68</td>\n",
       "      <td>3.31</td>\n",
       "      <td>Male</td>\n",
       "      <td>No</td>\n",
       "      <td>Sun</td>\n",
       "      <td>Dinner</td>\n",
       "      <td>2</td>\n",
       "    </tr>\n",
       "    <tr>\n",
       "      <th>4</th>\n",
       "      <td>24.59</td>\n",
       "      <td>3.61</td>\n",
       "      <td>Female</td>\n",
       "      <td>No</td>\n",
       "      <td>Sun</td>\n",
       "      <td>Dinner</td>\n",
       "      <td>4</td>\n",
       "    </tr>\n",
       "    <tr>\n",
       "      <th>...</th>\n",
       "      <td>...</td>\n",
       "      <td>...</td>\n",
       "      <td>...</td>\n",
       "      <td>...</td>\n",
       "      <td>...</td>\n",
       "      <td>...</td>\n",
       "      <td>...</td>\n",
       "    </tr>\n",
       "    <tr>\n",
       "      <th>239</th>\n",
       "      <td>29.03</td>\n",
       "      <td>5.92</td>\n",
       "      <td>Male</td>\n",
       "      <td>No</td>\n",
       "      <td>Sat</td>\n",
       "      <td>Dinner</td>\n",
       "      <td>3</td>\n",
       "    </tr>\n",
       "    <tr>\n",
       "      <th>240</th>\n",
       "      <td>27.18</td>\n",
       "      <td>2.00</td>\n",
       "      <td>Female</td>\n",
       "      <td>Yes</td>\n",
       "      <td>Sat</td>\n",
       "      <td>Dinner</td>\n",
       "      <td>2</td>\n",
       "    </tr>\n",
       "    <tr>\n",
       "      <th>241</th>\n",
       "      <td>22.67</td>\n",
       "      <td>2.00</td>\n",
       "      <td>Male</td>\n",
       "      <td>Yes</td>\n",
       "      <td>Sat</td>\n",
       "      <td>Dinner</td>\n",
       "      <td>2</td>\n",
       "    </tr>\n",
       "    <tr>\n",
       "      <th>242</th>\n",
       "      <td>17.82</td>\n",
       "      <td>1.75</td>\n",
       "      <td>Male</td>\n",
       "      <td>No</td>\n",
       "      <td>Sat</td>\n",
       "      <td>Dinner</td>\n",
       "      <td>2</td>\n",
       "    </tr>\n",
       "    <tr>\n",
       "      <th>243</th>\n",
       "      <td>18.78</td>\n",
       "      <td>3.00</td>\n",
       "      <td>Female</td>\n",
       "      <td>No</td>\n",
       "      <td>Thur</td>\n",
       "      <td>Dinner</td>\n",
       "      <td>2</td>\n",
       "    </tr>\n",
       "  </tbody>\n",
       "</table>\n",
       "<p>244 rows × 7 columns</p>\n",
       "</div>"
      ],
      "text/plain": [
       "     total_bill   tip     sex smoker   day    time  size\n",
       "0         16.99  1.01  Female     No   Sun  Dinner     2\n",
       "1         10.34  1.66    Male     No   Sun  Dinner     3\n",
       "2         21.01  3.50    Male     No   Sun  Dinner     3\n",
       "3         23.68  3.31    Male     No   Sun  Dinner     2\n",
       "4         24.59  3.61  Female     No   Sun  Dinner     4\n",
       "..          ...   ...     ...    ...   ...     ...   ...\n",
       "239       29.03  5.92    Male     No   Sat  Dinner     3\n",
       "240       27.18  2.00  Female    Yes   Sat  Dinner     2\n",
       "241       22.67  2.00    Male    Yes   Sat  Dinner     2\n",
       "242       17.82  1.75    Male     No   Sat  Dinner     2\n",
       "243       18.78  3.00  Female     No  Thur  Dinner     2\n",
       "\n",
       "[244 rows x 7 columns]"
      ]
     },
     "execution_count": 12,
     "metadata": {},
     "output_type": "execute_result"
    }
   ],
   "source": [
    "data"
   ]
  },
  {
   "cell_type": "code",
   "execution_count": 13,
   "id": "5876ff49",
   "metadata": {},
   "outputs": [
    {
     "data": {
      "text/plain": [
       "time\n",
       "Dinner    463\n",
       "Lunch     164\n",
       "Name: size, dtype: int64"
      ]
     },
     "execution_count": 13,
     "metadata": {},
     "output_type": "execute_result"
    }
   ],
   "source": [
    "data.groupby('time')['size'].sum()"
   ]
  },
  {
   "cell_type": "markdown",
   "id": "6cd773f0",
   "metadata": {
    "id": "6cd773f0"
   },
   "source": [
    "### 5. Based on the statistical summary, comment on the variable 'tip'"
   ]
  },
  {
   "cell_type": "code",
   "execution_count": 14,
   "id": "6ba68900",
   "metadata": {
    "id": "6ba68900"
   },
   "outputs": [
    {
     "data": {
      "text/html": [
       "<div>\n",
       "<style scoped>\n",
       "    .dataframe tbody tr th:only-of-type {\n",
       "        vertical-align: middle;\n",
       "    }\n",
       "\n",
       "    .dataframe tbody tr th {\n",
       "        vertical-align: top;\n",
       "    }\n",
       "\n",
       "    .dataframe thead th {\n",
       "        text-align: right;\n",
       "    }\n",
       "</style>\n",
       "<table border=\"1\" class=\"dataframe\">\n",
       "  <thead>\n",
       "    <tr style=\"text-align: right;\">\n",
       "      <th></th>\n",
       "      <th>total_bill</th>\n",
       "      <th>tip</th>\n",
       "      <th>size</th>\n",
       "    </tr>\n",
       "  </thead>\n",
       "  <tbody>\n",
       "    <tr>\n",
       "      <th>count</th>\n",
       "      <td>244.000000</td>\n",
       "      <td>244.000000</td>\n",
       "      <td>244.000000</td>\n",
       "    </tr>\n",
       "    <tr>\n",
       "      <th>mean</th>\n",
       "      <td>19.785943</td>\n",
       "      <td>2.998279</td>\n",
       "      <td>2.569672</td>\n",
       "    </tr>\n",
       "    <tr>\n",
       "      <th>std</th>\n",
       "      <td>8.902412</td>\n",
       "      <td>1.383638</td>\n",
       "      <td>0.951100</td>\n",
       "    </tr>\n",
       "    <tr>\n",
       "      <th>min</th>\n",
       "      <td>3.070000</td>\n",
       "      <td>1.000000</td>\n",
       "      <td>1.000000</td>\n",
       "    </tr>\n",
       "    <tr>\n",
       "      <th>25%</th>\n",
       "      <td>13.347500</td>\n",
       "      <td>2.000000</td>\n",
       "      <td>2.000000</td>\n",
       "    </tr>\n",
       "    <tr>\n",
       "      <th>50%</th>\n",
       "      <td>17.795000</td>\n",
       "      <td>2.900000</td>\n",
       "      <td>2.000000</td>\n",
       "    </tr>\n",
       "    <tr>\n",
       "      <th>75%</th>\n",
       "      <td>24.127500</td>\n",
       "      <td>3.562500</td>\n",
       "      <td>3.000000</td>\n",
       "    </tr>\n",
       "    <tr>\n",
       "      <th>max</th>\n",
       "      <td>50.810000</td>\n",
       "      <td>10.000000</td>\n",
       "      <td>6.000000</td>\n",
       "    </tr>\n",
       "  </tbody>\n",
       "</table>\n",
       "</div>"
      ],
      "text/plain": [
       "       total_bill         tip        size\n",
       "count  244.000000  244.000000  244.000000\n",
       "mean    19.785943    2.998279    2.569672\n",
       "std      8.902412    1.383638    0.951100\n",
       "min      3.070000    1.000000    1.000000\n",
       "25%     13.347500    2.000000    2.000000\n",
       "50%     17.795000    2.900000    2.000000\n",
       "75%     24.127500    3.562500    3.000000\n",
       "max     50.810000   10.000000    6.000000"
      ]
     },
     "execution_count": 14,
     "metadata": {},
     "output_type": "execute_result"
    }
   ],
   "source": [
    "data.describe()"
   ]
  },
  {
   "cell_type": "markdown",
   "id": "d9c31198",
   "metadata": {
    "id": "d9c31198"
   },
   "source": [
    "### 6. Find the busiest day in terms of the orders?"
   ]
  },
  {
   "cell_type": "code",
   "execution_count": 16,
   "id": "c3d6ee67",
   "metadata": {
    "id": "c3d6ee67"
   },
   "outputs": [
    {
     "data": {
      "text/plain": [
       "day\n",
       "Sat     1778.40\n",
       "Sun     1627.16\n",
       "Thur    1096.33\n",
       "Fri      325.88\n",
       "Name: total_bill, dtype: float64"
      ]
     },
     "execution_count": 16,
     "metadata": {},
     "output_type": "execute_result"
    }
   ],
   "source": [
    "data.groupby('day')['total_bill'].sum().sort_values(ascending=False)"
   ]
  },
  {
   "cell_type": "markdown",
   "id": "f01ba5cf",
   "metadata": {
    "id": "f01ba5cf"
   },
   "source": [
    "### 7. Is the variable 'total_bill' skewed? If yes, identify the type of skewness. Support your answer with a plot"
   ]
  },
  {
   "cell_type": "code",
   "execution_count": 17,
   "id": "05a8b7c2",
   "metadata": {
    "id": "05a8b7c2"
   },
   "outputs": [
    {
     "data": {
      "text/plain": [
       "1.1332130376158205"
      ]
     },
     "execution_count": 17,
     "metadata": {},
     "output_type": "execute_result"
    }
   ],
   "source": [
    "data['total_bill'].skew()"
   ]
  },
  {
   "cell_type": "code",
   "execution_count": 18,
   "id": "c434b24e",
   "metadata": {},
   "outputs": [],
   "source": [
    "import seaborn as sns"
   ]
  },
  {
   "cell_type": "code",
   "execution_count": 19,
   "id": "03e7383d",
   "metadata": {},
   "outputs": [
    {
     "name": "stderr",
     "output_type": "stream",
     "text": [
      "C:\\Users\\USER\\AppData\\Local\\Temp\\ipykernel_6512\\4292925720.py:1: UserWarning: \n",
      "\n",
      "`distplot` is a deprecated function and will be removed in seaborn v0.14.0.\n",
      "\n",
      "Please adapt your code to use either `displot` (a figure-level function with\n",
      "similar flexibility) or `histplot` (an axes-level function for histograms).\n",
      "\n",
      "For a guide to updating your code to use the new functions, please see\n",
      "https://gist.github.com/mwaskom/de44147ed2974457ad6372750bbe5751\n",
      "\n",
      "  sns.distplot(data['total_bill'])\n"
     ]
    },
    {
     "data": {
      "text/plain": [
       "<Axes: xlabel='total_bill', ylabel='Density'>"
      ]
     },
     "execution_count": 19,
     "metadata": {},
     "output_type": "execute_result"
    },
    {
     "data": {
      "image/png": "[encoded data removed]",
      "text/plain": [
       "<Figure size 640x480 with 1 Axes>"
      ]
     },
     "metadata": {},
     "output_type": "display_data"
    }
   ],
   "source": [
    "sns.distplot(data['total_bill'])"
   ]
  },
  {
   "cell_type": "markdown",
   "id": "0fe8fa86",
   "metadata": {
    "id": "0fe8fa86"
   },
   "source": [
    "### 8. Is the tip amount dependent on the total bill? Visualize the relationship with a appropriate plot and metric and write your findings."
   ]
  },
  {
   "cell_type": "code",
   "execution_count": 20,
   "id": "d45c2da4",
   "metadata": {
    "id": "d45c2da4"
   },
   "outputs": [
    {
     "data": {
      "text/plain": [
       "<bound method DataFrame.corr of       tip  total_bill\n",
       "0    1.01       16.99\n",
       "1    1.66       10.34\n",
       "2    3.50       21.01\n",
       "3    3.31       23.68\n",
       "4    3.61       24.59\n",
       "..    ...         ...\n",
       "239  5.92       29.03\n",
       "240  2.00       27.18\n",
       "241  2.00       22.67\n",
       "242  1.75       17.82\n",
       "243  3.00       18.78\n",
       "\n",
       "[244 rows x 2 columns]>"
      ]
     },
     "execution_count": 20,
     "metadata": {},
     "output_type": "execute_result"
    }
   ],
   "source": [
    "data[['tip','total_bill']].corr"
   ]
  },
  {
   "cell_type": "code",
   "execution_count": 21,
   "id": "3ce88bb5",
   "metadata": {},
   "outputs": [
    {
     "data": {
      "text/plain": [
       "<Axes: xlabel='total_bill', ylabel='tip'>"
      ]
     },
     "execution_count": 21,
     "metadata": {},
     "output_type": "execute_result"
    },
    {
     "data": {
      "image/png": "[encoded data removed]",
      "text/plain": [
       "<Figure size 640x480 with 1 Axes>"
      ]
     },
     "metadata": {},
     "output_type": "display_data"
    }
   ],
   "source": [
    "sns.scatterplot(x='total_bill',y='tip',data=data)"
   ]
  },
  {
   "cell_type": "markdown",
   "id": "2469e9cc",
   "metadata": {
    "id": "2469e9cc"
   },
   "source": [
    "### 9. What is the percentage of males and females in the dataset? and display it in the plot"
   ]
  },
  {
   "cell_type": "code",
   "execution_count": 26,
   "id": "95d82552",
   "metadata": {},
   "outputs": [],
   "source": [
    "from sklearn.preprocessing import LabelEncoder\n",
    "for col in data.select_dtypes('object').columns:\n",
    "   le=LabelEncoder()\n",
    "data[col]=le.fit_transform(data[col])"
   ]
  },
  {
   "cell_type": "code",
   "execution_count": 27,
   "id": "ee426802",
   "metadata": {},
   "outputs": [],
   "source": [
    "cate=['sex']\n",
    "lbl_encode = LabelEncoder()\n",
    "for i in cate:\n",
    "    data[i]=data[[i]].apply(lbl_encode.fit_transform)"
   ]
  },
  {
   "cell_type": "code",
   "execution_count": 28,
   "id": "0dfd6414",
   "metadata": {
    "id": "0dfd6414"
   },
   "outputs": [
    {
     "data": {
      "text/plain": [
       "<Axes: ylabel='count'>"
      ]
     },
     "execution_count": 28,
     "metadata": {},
     "output_type": "execute_result"
    },
    {
     "data": {
      "image/png": "[encoded data removed]",
      "text/plain": [
       "<Figure size 640x480 with 1 Axes>"
      ]
     },
     "metadata": {},
     "output_type": "display_data"
    }
   ],
   "source": [
    "sns.countplot(data['sex'])"
   ]
  },
  {
   "cell_type": "code",
   "execution_count": 29,
   "id": "661a1448",
   "metadata": {},
   "outputs": [
    {
     "data": {
      "text/plain": [
       "sex\n",
       "1    0.643443\n",
       "0    0.356557\n",
       "Name: proportion, dtype: float64"
      ]
     },
     "execution_count": 29,
     "metadata": {},
     "output_type": "execute_result"
    }
   ],
   "source": [
    "data['sex'].value_counts(normalize=True)"
   ]
  },
  {
   "cell_type": "markdown",
   "id": "35e7f9bb",
   "metadata": {
    "id": "35e7f9bb"
   },
   "source": [
    "### 10. Compute the gender-wise count based on smoking habits and display it in the plot"
   ]
  },
  {
   "cell_type": "code",
   "execution_count": 30,
   "id": "a266dd22",
   "metadata": {
    "id": "a266dd22"
   },
   "outputs": [
    {
     "data": {
      "text/plain": [
       "Index(['total_bill', 'tip', 'sex', 'smoker', 'day', 'time', 'size'], dtype='object')"
      ]
     },
     "execution_count": 30,
     "metadata": {},
     "output_type": "execute_result"
    }
   ],
   "source": [
    "data.columns"
   ]
  },
  {
   "cell_type": "code",
   "execution_count": 31,
   "id": "bfdc3eb8",
   "metadata": {},
   "outputs": [
    {
     "data": {
      "text/plain": [
       "<Axes: xlabel='sex'>"
      ]
     },
     "execution_count": 31,
     "metadata": {},
     "output_type": "execute_result"
    },
    {
     "data": {
      "image/png": "[encoded data removed]",
      "text/plain": [
       "<Figure size 640x480 with 1 Axes>"
      ]
     },
     "metadata": {},
     "output_type": "display_data"
    }
   ],
   "source": [
    "pd.crosstab(data['sex'],data['smoker']).plot(kind='bar')"
   ]
  },
  {
   "cell_type": "markdown",
   "id": "1f8ba505",
   "metadata": {
    "id": "1f8ba505"
   },
   "source": [
    "### 11. Compute the average tip amount given for different days and display it in the plot."
   ]
  },
  {
   "cell_type": "code",
   "execution_count": 32,
   "id": "13ae2148",
   "metadata": {
    "id": "13ae2148"
   },
   "outputs": [
    {
     "data": {
      "text/plain": [
       "day\n",
       "Fri     2.734737\n",
       "Sat     2.993103\n",
       "Sun     3.255132\n",
       "Thur    2.771452\n",
       "Name: tip, dtype: float64"
      ]
     },
     "execution_count": 32,
     "metadata": {},
     "output_type": "execute_result"
    }
   ],
   "source": [
    "data.groupby('day')['tip'].mean()"
   ]
  },
  {
   "cell_type": "code",
   "execution_count": 33,
   "id": "5f6779e5",
   "metadata": {},
   "outputs": [],
   "source": [
    "import numpy as np"
   ]
  },
  {
   "cell_type": "code",
   "execution_count": 34,
   "id": "cc0a959f",
   "metadata": {},
   "outputs": [
    {
     "name": "stderr",
     "output_type": "stream",
     "text": [
      "C:\\Users\\USER\\AppData\\Local\\Temp\\ipykernel_6512\\3601557750.py:1: FutureWarning: \n",
      "\n",
      "The `ci` parameter is deprecated. Use `errorbar=('ci', False)` for the same effect.\n",
      "\n",
      "  sns.barplot(x='day',y='tip',data=data,estimator=np.mean,ci=False)\n"
     ]
    },
    {
     "data": {
      "text/plain": [
       "<Axes: xlabel='day', ylabel='tip'>"
      ]
     },
     "execution_count": 34,
     "metadata": {},
     "output_type": "execute_result"
    },
    {
     "data": {
      "image/png": "[encoded data removed]",
      "text/plain": [
       "<Figure size 640x480 with 1 Axes>"
      ]
     },
     "metadata": {},
     "output_type": "display_data"
    }
   ],
   "source": [
    "sns.barplot(x='day',y='tip',data=data,estimator=np.mean,ci=False)"
   ]
  },
  {
   "cell_type": "markdown",
   "id": "873f97a5",
   "metadata": {
    "id": "873f97a5"
   },
   "source": [
    "### 12. Is the average bill amount dependent on the size of the group? Visualize the relationship using appropriate plot and write your findings."
   ]
  },
  {
   "cell_type": "code",
   "execution_count": 35,
   "id": "07f676ad",
   "metadata": {
    "id": "07f676ad"
   },
   "outputs": [
    {
     "name": "stderr",
     "output_type": "stream",
     "text": [
      "C:\\Users\\USER\\AppData\\Local\\Temp\\ipykernel_6512\\3946916096.py:1: FutureWarning: \n",
      "\n",
      "The `ci` parameter is deprecated. Use `errorbar=('ci', True)` for the same effect.\n",
      "\n",
      "  sns.barplot(x='size',y='total_bill',estimator=np.mean,ci=True,data=data)\n"
     ]
    },
    {
     "data": {
      "text/plain": [
       "<Axes: xlabel='size', ylabel='total_bill'>"
      ]
     },
     "execution_count": 35,
     "metadata": {},
     "output_type": "execute_result"
    },
    {
     "data": {
      "image/png": "[encoded data removed]",
      "text/plain": [
       "<Figure size 640x480 with 1 Axes>"
      ]
     },
     "metadata": {},
     "output_type": "display_data"
    }
   ],
   "source": [
    "sns.barplot(x='size',y='total_bill',estimator=np.mean,ci=True,data=data)"
   ]
  },
  {
   "cell_type": "markdown",
   "id": "566ae9fe",
   "metadata": {
    "id": "566ae9fe"
   },
   "source": [
    "### 13. Plot a horizontal boxplot to compare the bill amount based on gender"
   ]
  },
  {
   "cell_type": "code",
   "execution_count": 38,
   "id": "5957b3aa",
   "metadata": {
    "id": "5957b3aa"
   },
   "outputs": [
    {
     "data": {
      "text/plain": [
       "<Axes: xlabel='sex', ylabel='total_bill'>"
      ]
     },
     "execution_count": 38,
     "metadata": {},
     "output_type": "execute_result"
    },
    {
     "data": {
      "image/png": "[encoded data removed]",
      "text/plain": [
       "<Figure size 640x480 with 1 Axes>"
      ]
     },
     "metadata": {},
     "output_type": "display_data"
    }
   ],
   "source": [
    "sns.boxplot(x=data['sex'],y=data['total_bill'],orient='h')"
   ]
  },
  {
   "cell_type": "markdown",
   "id": "5bc13310",
   "metadata": {
    "id": "5bc13310"
   },
   "source": [
    "### 14. Find the maximum bill amount for lunch and dinner on Saturday and Sunday"
   ]
  },
  {
   "cell_type": "code",
   "execution_count": null,
   "id": "251a125a",
   "metadata": {},
   "outputs": [],
   "source": [
    "data.groupby('day','time')['total_bill'].max()"
   ]
  },
  {
   "cell_type": "markdown",
   "id": "aa484774",
   "metadata": {
    "id": "aa484774"
   },
   "source": [
    "### 15. Compute the percentage of missing values in the dataset."
   ]
  },
  {
   "cell_type": "code",
   "execution_count": 62,
   "id": "5c9bf12e",
   "metadata": {
    "id": "5c9bf12e"
   },
   "outputs": [
    {
     "data": {
      "text/plain": [
       "total_bill    0.0\n",
       "tip           0.0\n",
       "sex           0.0\n",
       "smoker        0.0\n",
       "day           0.0\n",
       "time          0.0\n",
       "size          0.0\n",
       "dtype: float64"
      ]
     },
     "execution_count": 62,
     "metadata": {},
     "output_type": "execute_result"
    }
   ],
   "source": [
    "(data.isnull().sum()/len(data))*100"
   ]
  },
  {
   "cell_type": "markdown",
   "id": "abfaf333",
   "metadata": {
    "id": "abfaf333"
   },
   "source": [
    "### 16. Is there are any duplicate records in the dataset? If yes compute the count of the duplicate records and drop them."
   ]
  },
  {
   "cell_type": "code",
   "execution_count": 66,
   "id": "751f4641",
   "metadata": {
    "id": "751f4641"
   },
   "outputs": [],
   "source": [
    "data_n = data[data.duplicated()]"
   ]
  },
  {
   "cell_type": "code",
   "execution_count": 67,
   "id": "044d7352",
   "metadata": {},
   "outputs": [
    {
     "data": {
      "text/html": [
       "<div>\n",
       "<style scoped>\n",
       "    .dataframe tbody tr th:only-of-type {\n",
       "        vertical-align: middle;\n",
       "    }\n",
       "\n",
       "    .dataframe tbody tr th {\n",
       "        vertical-align: top;\n",
       "    }\n",
       "\n",
       "    .dataframe thead th {\n",
       "        text-align: right;\n",
       "    }\n",
       "</style>\n",
       "<table border=\"1\" class=\"dataframe\">\n",
       "  <thead>\n",
       "    <tr style=\"text-align: right;\">\n",
       "      <th></th>\n",
       "      <th>total_bill</th>\n",
       "      <th>tip</th>\n",
       "      <th>sex</th>\n",
       "      <th>smoker</th>\n",
       "      <th>day</th>\n",
       "      <th>time</th>\n",
       "      <th>size</th>\n",
       "    </tr>\n",
       "  </thead>\n",
       "  <tbody>\n",
       "    <tr>\n",
       "      <th>202</th>\n",
       "      <td>13.0</td>\n",
       "      <td>2.0</td>\n",
       "      <td>0</td>\n",
       "      <td>Yes</td>\n",
       "      <td>Thur</td>\n",
       "      <td>1</td>\n",
       "      <td>2</td>\n",
       "    </tr>\n",
       "  </tbody>\n",
       "</table>\n",
       "</div>"
      ],
      "text/plain": [
       "     total_bill  tip  sex smoker   day  time  size\n",
       "202        13.0  2.0    0    Yes  Thur     1     2"
      ]
     },
     "execution_count": 67,
     "metadata": {},
     "output_type": "execute_result"
    }
   ],
   "source": [
    "data_n"
   ]
  },
  {
   "cell_type": "code",
   "execution_count": 69,
   "id": "c5a5fd3b",
   "metadata": {},
   "outputs": [
    {
     "data": {
      "text/html": [
       "<div>\n",
       "<style scoped>\n",
       "    .dataframe tbody tr th:only-of-type {\n",
       "        vertical-align: middle;\n",
       "    }\n",
       "\n",
       "    .dataframe tbody tr th {\n",
       "        vertical-align: top;\n",
       "    }\n",
       "\n",
       "    .dataframe thead th {\n",
       "        text-align: right;\n",
       "    }\n",
       "</style>\n",
       "<table border=\"1\" class=\"dataframe\">\n",
       "  <thead>\n",
       "    <tr style=\"text-align: right;\">\n",
       "      <th></th>\n",
       "      <th>total_bill</th>\n",
       "      <th>tip</th>\n",
       "      <th>sex</th>\n",
       "      <th>smoker</th>\n",
       "      <th>day</th>\n",
       "      <th>time</th>\n",
       "      <th>size</th>\n",
       "    </tr>\n",
       "  </thead>\n",
       "  <tbody>\n",
       "    <tr>\n",
       "      <th>202</th>\n",
       "      <td>13.0</td>\n",
       "      <td>2.0</td>\n",
       "      <td>0</td>\n",
       "      <td>Yes</td>\n",
       "      <td>Thur</td>\n",
       "      <td>1</td>\n",
       "      <td>2</td>\n",
       "    </tr>\n",
       "  </tbody>\n",
       "</table>\n",
       "</div>"
      ],
      "text/plain": [
       "     total_bill  tip  sex smoker   day  time  size\n",
       "202        13.0  2.0    0    Yes  Thur     1     2"
      ]
     },
     "execution_count": 69,
     "metadata": {},
     "output_type": "execute_result"
    }
   ],
   "source": [
    "data_n.drop_duplicates()"
   ]
  },
  {
   "cell_type": "markdown",
   "id": "4aa4a763",
   "metadata": {
    "id": "4aa4a763"
   },
   "source": [
    "### 17. Is there are any outliers present in the column 'total_bill'? If yes treat them with transformation approach, and plot a boxplot before and after the treatment"
   ]
  },
  {
   "cell_type": "code",
   "execution_count": 71,
   "id": "c6885f21",
   "metadata": {
    "id": "c6885f21"
   },
   "outputs": [
    {
     "data": {
      "text/plain": [
       "<Axes: >"
      ]
     },
     "execution_count": 71,
     "metadata": {},
     "output_type": "execute_result"
    },
    {
     "data": {
      "image/png": "[encoded data removed]",
      "text/plain": [
       "<Figure size 640x480 with 1 Axes>"
      ]
     },
     "metadata": {},
     "output_type": "display_data"
    }
   ],
   "source": [
    "sns.boxplot(np.log(data['total_bill']))"
   ]
  },
  {
   "cell_type": "markdown",
   "id": "2e8bfa6f",
   "metadata": {
    "id": "2e8bfa6f"
   },
   "source": [
    "### 18. Is there are any outliers present in the column 'tip'? If yes remove them using IQR techinque."
   ]
  },
  {
   "cell_type": "code",
   "execution_count": 72,
   "id": "29d3f9e0",
   "metadata": {
    "id": "29d3f9e0"
   },
   "outputs": [
    {
     "data": {
      "text/plain": [
       "<Axes: >"
      ]
     },
     "execution_count": 72,
     "metadata": {},
     "output_type": "execute_result"
    },
    {
     "data": {
      "image/png": "[encoded data removed]",
      "text/plain": [
       "<Figure size 640x480 with 1 Axes>"
      ]
     },
     "metadata": {},
     "output_type": "display_data"
    }
   ],
   "source": [
    "sns.boxplot(data['tip'])"
   ]
  },
  {
   "cell_type": "code",
   "execution_count": 73,
   "id": "e0e6ed45",
   "metadata": {},
   "outputs": [],
   "source": [
    "q1 = data['tip'].quantile(0.25)\n",
    "q2 = data['tip'].quantile(0.5)\n",
    "q3 = data['tip'].quantile(0.75)"
   ]
  },
  {
   "cell_type": "code",
   "execution_count": 74,
   "id": "ab46c343",
   "metadata": {},
   "outputs": [],
   "source": [
    "iqr=q3-q1"
   ]
  },
  {
   "cell_type": "code",
   "execution_count": 75,
   "id": "237489b9",
   "metadata": {},
   "outputs": [],
   "source": [
    "upper_limit = q3+1.5*(iqr)"
   ]
  },
  {
   "cell_type": "code",
   "execution_count": 76,
   "id": "13db3cd8",
   "metadata": {},
   "outputs": [
    {
     "data": {
      "text/plain": [
       "5.90625"
      ]
     },
     "execution_count": 76,
     "metadata": {},
     "output_type": "execute_result"
    }
   ],
   "source": [
    "upper_limit"
   ]
  },
  {
   "cell_type": "code",
   "execution_count": 77,
   "id": "5f765515",
   "metadata": {},
   "outputs": [],
   "source": [
    "lower_limit = q1-1.5*(iqr)"
   ]
  },
  {
   "cell_type": "code",
   "execution_count": 78,
   "id": "18391eee",
   "metadata": {},
   "outputs": [
    {
     "data": {
      "text/plain": [
       "-0.34375"
      ]
     },
     "execution_count": 78,
     "metadata": {},
     "output_type": "execute_result"
    }
   ],
   "source": [
    "lower_limit"
   ]
  },
  {
   "cell_type": "code",
   "execution_count": 79,
   "id": "d8503254",
   "metadata": {},
   "outputs": [
    {
     "data": {
      "text/html": [
       "<div>\n",
       "<style scoped>\n",
       "    .dataframe tbody tr th:only-of-type {\n",
       "        vertical-align: middle;\n",
       "    }\n",
       "\n",
       "    .dataframe tbody tr th {\n",
       "        vertical-align: top;\n",
       "    }\n",
       "\n",
       "    .dataframe thead th {\n",
       "        text-align: right;\n",
       "    }\n",
       "</style>\n",
       "<table border=\"1\" class=\"dataframe\">\n",
       "  <thead>\n",
       "    <tr style=\"text-align: right;\">\n",
       "      <th></th>\n",
       "      <th>total_bill</th>\n",
       "      <th>tip</th>\n",
       "      <th>sex</th>\n",
       "      <th>smoker</th>\n",
       "      <th>day</th>\n",
       "      <th>time</th>\n",
       "      <th>size</th>\n",
       "    </tr>\n",
       "  </thead>\n",
       "  <tbody>\n",
       "    <tr>\n",
       "      <th>0</th>\n",
       "      <td>16.99</td>\n",
       "      <td>1.01</td>\n",
       "      <td>0</td>\n",
       "      <td>No</td>\n",
       "      <td>Sun</td>\n",
       "      <td>0</td>\n",
       "      <td>2</td>\n",
       "    </tr>\n",
       "    <tr>\n",
       "      <th>1</th>\n",
       "      <td>10.34</td>\n",
       "      <td>1.66</td>\n",
       "      <td>1</td>\n",
       "      <td>No</td>\n",
       "      <td>Sun</td>\n",
       "      <td>0</td>\n",
       "      <td>3</td>\n",
       "    </tr>\n",
       "    <tr>\n",
       "      <th>2</th>\n",
       "      <td>21.01</td>\n",
       "      <td>3.50</td>\n",
       "      <td>1</td>\n",
       "      <td>No</td>\n",
       "      <td>Sun</td>\n",
       "      <td>0</td>\n",
       "      <td>3</td>\n",
       "    </tr>\n",
       "    <tr>\n",
       "      <th>3</th>\n",
       "      <td>23.68</td>\n",
       "      <td>3.31</td>\n",
       "      <td>1</td>\n",
       "      <td>No</td>\n",
       "      <td>Sun</td>\n",
       "      <td>0</td>\n",
       "      <td>2</td>\n",
       "    </tr>\n",
       "    <tr>\n",
       "      <th>4</th>\n",
       "      <td>24.59</td>\n",
       "      <td>3.61</td>\n",
       "      <td>0</td>\n",
       "      <td>No</td>\n",
       "      <td>Sun</td>\n",
       "      <td>0</td>\n",
       "      <td>4</td>\n",
       "    </tr>\n",
       "    <tr>\n",
       "      <th>...</th>\n",
       "      <td>...</td>\n",
       "      <td>...</td>\n",
       "      <td>...</td>\n",
       "      <td>...</td>\n",
       "      <td>...</td>\n",
       "      <td>...</td>\n",
       "      <td>...</td>\n",
       "    </tr>\n",
       "    <tr>\n",
       "      <th>239</th>\n",
       "      <td>29.03</td>\n",
       "      <td>5.92</td>\n",
       "      <td>1</td>\n",
       "      <td>No</td>\n",
       "      <td>Sat</td>\n",
       "      <td>0</td>\n",
       "      <td>3</td>\n",
       "    </tr>\n",
       "    <tr>\n",
       "      <th>240</th>\n",
       "      <td>27.18</td>\n",
       "      <td>2.00</td>\n",
       "      <td>0</td>\n",
       "      <td>Yes</td>\n",
       "      <td>Sat</td>\n",
       "      <td>0</td>\n",
       "      <td>2</td>\n",
       "    </tr>\n",
       "    <tr>\n",
       "      <th>241</th>\n",
       "      <td>22.67</td>\n",
       "      <td>2.00</td>\n",
       "      <td>1</td>\n",
       "      <td>Yes</td>\n",
       "      <td>Sat</td>\n",
       "      <td>0</td>\n",
       "      <td>2</td>\n",
       "    </tr>\n",
       "    <tr>\n",
       "      <th>242</th>\n",
       "      <td>17.82</td>\n",
       "      <td>1.75</td>\n",
       "      <td>1</td>\n",
       "      <td>No</td>\n",
       "      <td>Sat</td>\n",
       "      <td>0</td>\n",
       "      <td>2</td>\n",
       "    </tr>\n",
       "    <tr>\n",
       "      <th>243</th>\n",
       "      <td>18.78</td>\n",
       "      <td>3.00</td>\n",
       "      <td>0</td>\n",
       "      <td>No</td>\n",
       "      <td>Thur</td>\n",
       "      <td>0</td>\n",
       "      <td>2</td>\n",
       "    </tr>\n",
       "  </tbody>\n",
       "</table>\n",
       "<p>244 rows × 7 columns</p>\n",
       "</div>"
      ],
      "text/plain": [
       "     total_bill   tip  sex smoker   day  time  size\n",
       "0         16.99  1.01    0     No   Sun     0     2\n",
       "1         10.34  1.66    1     No   Sun     0     3\n",
       "2         21.01  3.50    1     No   Sun     0     3\n",
       "3         23.68  3.31    1     No   Sun     0     2\n",
       "4         24.59  3.61    0     No   Sun     0     4\n",
       "..          ...   ...  ...    ...   ...   ...   ...\n",
       "239       29.03  5.92    1     No   Sat     0     3\n",
       "240       27.18  2.00    0    Yes   Sat     0     2\n",
       "241       22.67  2.00    1    Yes   Sat     0     2\n",
       "242       17.82  1.75    1     No   Sat     0     2\n",
       "243       18.78  3.00    0     No  Thur     0     2\n",
       "\n",
       "[244 rows x 7 columns]"
      ]
     },
     "execution_count": 79,
     "metadata": {},
     "output_type": "execute_result"
    }
   ],
   "source": [
    "data"
   ]
  },
  {
   "cell_type": "code",
   "execution_count": 80,
   "id": "39369b28",
   "metadata": {},
   "outputs": [],
   "source": [
    "data_wo_out = data.loc[(data['tip'] <= lower_limit) & (data['tip'] >= upper_limit)]"
   ]
  },
  {
   "cell_type": "code",
   "execution_count": 81,
   "id": "4d5347c4",
   "metadata": {},
   "outputs": [
    {
     "data": {
      "text/html": [
       "<div>\n",
       "<style scoped>\n",
       "    .dataframe tbody tr th:only-of-type {\n",
       "        vertical-align: middle;\n",
       "    }\n",
       "\n",
       "    .dataframe tbody tr th {\n",
       "        vertical-align: top;\n",
       "    }\n",
       "\n",
       "    .dataframe thead th {\n",
       "        text-align: right;\n",
       "    }\n",
       "</style>\n",
       "<table border=\"1\" class=\"dataframe\">\n",
       "  <thead>\n",
       "    <tr style=\"text-align: right;\">\n",
       "      <th></th>\n",
       "      <th>total_bill</th>\n",
       "      <th>tip</th>\n",
       "      <th>sex</th>\n",
       "      <th>smoker</th>\n",
       "      <th>day</th>\n",
       "      <th>time</th>\n",
       "      <th>size</th>\n",
       "    </tr>\n",
       "  </thead>\n",
       "  <tbody>\n",
       "  </tbody>\n",
       "</table>\n",
       "</div>"
      ],
      "text/plain": [
       "Empty DataFrame\n",
       "Columns: [total_bill, tip, sex, smoker, day, time, size]\n",
       "Index: []"
      ]
     },
     "execution_count": 81,
     "metadata": {},
     "output_type": "execute_result"
    }
   ],
   "source": [
    "data_wo_out"
   ]
  },
  {
   "cell_type": "code",
   "execution_count": null,
   "id": "bd87da02",
   "metadata": {},
   "outputs": [],
   "source": [
    "sns.boxplot(data_wo_out['tip'])"
   ]
  },
  {
   "cell_type": "markdown",
   "id": "10d91bd7",
   "metadata": {
    "id": "10d91bd7"
   },
   "source": [
    "### 19. Encode the categorical columns in the dataset and print the random 5 samples from the dataframe."
   ]
  },
  {
   "cell_type": "code",
   "execution_count": 85,
   "id": "05ad1918",
   "metadata": {
    "id": "05ad1918"
   },
   "outputs": [
    {
     "data": {
      "text/plain": [
       "total_bill    float64\n",
       "tip           float64\n",
       "sex             int32\n",
       "smoker         object\n",
       "day            object\n",
       "time            int32\n",
       "size            int64\n",
       "dtype: object"
      ]
     },
     "execution_count": 85,
     "metadata": {},
     "output_type": "execute_result"
    }
   ],
   "source": [
    "data.dtypes"
   ]
  },
  {
   "cell_type": "code",
   "execution_count": 86,
   "id": "ff5c8cac",
   "metadata": {},
   "outputs": [],
   "source": [
    "cat_data = data[['sex','smoker','day','time']]"
   ]
  },
  {
   "cell_type": "code",
   "execution_count": 87,
   "id": "95785674",
   "metadata": {},
   "outputs": [],
   "source": [
    "cat_data = pd.get_dummies(cat_data,drop_first=True)"
   ]
  },
  {
   "cell_type": "code",
   "execution_count": 88,
   "id": "628c8b1c",
   "metadata": {},
   "outputs": [
    {
     "data": {
      "text/html": [
       "<div>\n",
       "<style scoped>\n",
       "    .dataframe tbody tr th:only-of-type {\n",
       "        vertical-align: middle;\n",
       "    }\n",
       "\n",
       "    .dataframe tbody tr th {\n",
       "        vertical-align: top;\n",
       "    }\n",
       "\n",
       "    .dataframe thead th {\n",
       "        text-align: right;\n",
       "    }\n",
       "</style>\n",
       "<table border=\"1\" class=\"dataframe\">\n",
       "  <thead>\n",
       "    <tr style=\"text-align: right;\">\n",
       "      <th></th>\n",
       "      <th>sex</th>\n",
       "      <th>time</th>\n",
       "      <th>smoker_Yes</th>\n",
       "      <th>day_Sat</th>\n",
       "      <th>day_Sun</th>\n",
       "      <th>day_Thur</th>\n",
       "    </tr>\n",
       "  </thead>\n",
       "  <tbody>\n",
       "    <tr>\n",
       "      <th>0</th>\n",
       "      <td>0</td>\n",
       "      <td>0</td>\n",
       "      <td>False</td>\n",
       "      <td>False</td>\n",
       "      <td>True</td>\n",
       "      <td>False</td>\n",
       "    </tr>\n",
       "    <tr>\n",
       "      <th>1</th>\n",
       "      <td>1</td>\n",
       "      <td>0</td>\n",
       "      <td>False</td>\n",
       "      <td>False</td>\n",
       "      <td>True</td>\n",
       "      <td>False</td>\n",
       "    </tr>\n",
       "    <tr>\n",
       "      <th>2</th>\n",
       "      <td>1</td>\n",
       "      <td>0</td>\n",
       "      <td>False</td>\n",
       "      <td>False</td>\n",
       "      <td>True</td>\n",
       "      <td>False</td>\n",
       "    </tr>\n",
       "    <tr>\n",
       "      <th>3</th>\n",
       "      <td>1</td>\n",
       "      <td>0</td>\n",
       "      <td>False</td>\n",
       "      <td>False</td>\n",
       "      <td>True</td>\n",
       "      <td>False</td>\n",
       "    </tr>\n",
       "    <tr>\n",
       "      <th>4</th>\n",
       "      <td>0</td>\n",
       "      <td>0</td>\n",
       "      <td>False</td>\n",
       "      <td>False</td>\n",
       "      <td>True</td>\n",
       "      <td>False</td>\n",
       "    </tr>\n",
       "    <tr>\n",
       "      <th>...</th>\n",
       "      <td>...</td>\n",
       "      <td>...</td>\n",
       "      <td>...</td>\n",
       "      <td>...</td>\n",
       "      <td>...</td>\n",
       "      <td>...</td>\n",
       "    </tr>\n",
       "    <tr>\n",
       "      <th>239</th>\n",
       "      <td>1</td>\n",
       "      <td>0</td>\n",
       "      <td>False</td>\n",
       "      <td>True</td>\n",
       "      <td>False</td>\n",
       "      <td>False</td>\n",
       "    </tr>\n",
       "    <tr>\n",
       "      <th>240</th>\n",
       "      <td>0</td>\n",
       "      <td>0</td>\n",
       "      <td>True</td>\n",
       "      <td>True</td>\n",
       "      <td>False</td>\n",
       "      <td>False</td>\n",
       "    </tr>\n",
       "    <tr>\n",
       "      <th>241</th>\n",
       "      <td>1</td>\n",
       "      <td>0</td>\n",
       "      <td>True</td>\n",
       "      <td>True</td>\n",
       "      <td>False</td>\n",
       "      <td>False</td>\n",
       "    </tr>\n",
       "    <tr>\n",
       "      <th>242</th>\n",
       "      <td>1</td>\n",
       "      <td>0</td>\n",
       "      <td>False</td>\n",
       "      <td>True</td>\n",
       "      <td>False</td>\n",
       "      <td>False</td>\n",
       "    </tr>\n",
       "    <tr>\n",
       "      <th>243</th>\n",
       "      <td>0</td>\n",
       "      <td>0</td>\n",
       "      <td>False</td>\n",
       "      <td>False</td>\n",
       "      <td>False</td>\n",
       "      <td>True</td>\n",
       "    </tr>\n",
       "  </tbody>\n",
       "</table>\n",
       "<p>244 rows × 6 columns</p>\n",
       "</div>"
      ],
      "text/plain": [
       "     sex  time  smoker_Yes  day_Sat  day_Sun  day_Thur\n",
       "0      0     0       False    False     True     False\n",
       "1      1     0       False    False     True     False\n",
       "2      1     0       False    False     True     False\n",
       "3      1     0       False    False     True     False\n",
       "4      0     0       False    False     True     False\n",
       "..   ...   ...         ...      ...      ...       ...\n",
       "239    1     0       False     True    False     False\n",
       "240    0     0        True     True    False     False\n",
       "241    1     0        True     True    False     False\n",
       "242    1     0       False     True    False     False\n",
       "243    0     0       False    False    False      True\n",
       "\n",
       "[244 rows x 6 columns]"
      ]
     },
     "execution_count": 88,
     "metadata": {},
     "output_type": "execute_result"
    }
   ],
   "source": [
    "cat_data"
   ]
  },
  {
   "cell_type": "markdown",
   "id": "54ebc8e9",
   "metadata": {
    "id": "54ebc8e9"
   },
   "source": [
    "### 20. Check the range of the column 'total_bill' and transform the values such that the range will be 1."
   ]
  },
  {
   "cell_type": "code",
   "execution_count": 89,
   "id": "fb841382",
   "metadata": {
    "id": "fb841382"
   },
   "outputs": [
    {
     "data": {
      "text/plain": [
       "3.07"
      ]
     },
     "execution_count": 89,
     "metadata": {},
     "output_type": "execute_result"
    }
   ],
   "source": [
    "data['total_bill'].min()"
   ]
  },
  {
   "cell_type": "code",
   "execution_count": 90,
   "id": "317c2fd5",
   "metadata": {},
   "outputs": [
    {
     "data": {
      "text/plain": [
       "50.81"
      ]
     },
     "execution_count": 90,
     "metadata": {},
     "output_type": "execute_result"
    }
   ],
   "source": [
    "data['total_bill'].max()"
   ]
  },
  {
   "cell_type": "code",
   "execution_count": 91,
   "id": "cc8bfcf2",
   "metadata": {},
   "outputs": [],
   "source": [
    "from sklearn.preprocessing import MinMaxScaler"
   ]
  },
  {
   "cell_type": "code",
   "execution_count": 92,
   "id": "96998c4e",
   "metadata": {},
   "outputs": [],
   "source": [
    "mm = MinMaxScaler()"
   ]
  },
  {
   "cell_type": "code",
   "execution_count": 93,
   "id": "e5451e62",
   "metadata": {},
   "outputs": [],
   "source": [
    "data['total_bill'] = mm.fit_transform(data[['total_bill']])"
   ]
  },
  {
   "cell_type": "code",
   "execution_count": 94,
   "id": "740653c6",
   "metadata": {},
   "outputs": [
    {
     "data": {
      "text/plain": [
       "0.9999999999999999"
      ]
     },
     "execution_count": 94,
     "metadata": {},
     "output_type": "execute_result"
    }
   ],
   "source": [
    "data['total_bill'].max()"
   ]
  },
  {
   "cell_type": "code",
   "execution_count": 95,
   "id": "78b5181e",
   "metadata": {},
   "outputs": [
    {
     "data": {
      "text/plain": [
       "0.0"
      ]
     },
     "execution_count": 95,
     "metadata": {},
     "output_type": "execute_result"
    }
   ],
   "source": [
    "data['total_bill'].min()"
   ]
  },
  {
   "cell_type": "markdown",
   "id": "_yaGehJD5Fhe",
   "metadata": {
    "id": "_yaGehJD5Fhe"
   },
   "source": [
    "### 21. Load the dataset again by giving the name of the dataframe as \"tips_df\"\n",
    "- i) Encode the categorical variables.\n",
    "- ii) Store the target column (i.e.tip) in the y variable and the rest of the columns in the X variable"
   ]
  },
  {
   "cell_type": "code",
   "execution_count": 96,
   "id": "ruS7FI5s5Jt2",
   "metadata": {
    "id": "ruS7FI5s5Jt2"
   },
   "outputs": [],
   "source": [
    "tips_df = data.copy()"
   ]
  },
  {
   "cell_type": "code",
   "execution_count": 100,
   "id": "ee4c2ee1",
   "metadata": {},
   "outputs": [],
   "source": [
    "X = data.drop('tip',axis=1)"
   ]
  },
  {
   "cell_type": "code",
   "execution_count": 101,
   "id": "05ba7ce9",
   "metadata": {},
   "outputs": [],
   "source": [
    "y = tips_df['tip']"
   ]
  },
  {
   "cell_type": "markdown",
   "id": "6jnqKmXQ5KB9",
   "metadata": {
    "id": "6jnqKmXQ5KB9"
   },
   "source": [
    "### 22. Split the dataset into two parts (i.e. 70% train and 30% test), and Standardize the columns \"total_bill\" and \"Size\" using the mim_max scaling approach"
   ]
  },
  {
   "cell_type": "code",
   "execution_count": 102,
   "id": "l-jHM1e_5OSp",
   "metadata": {
    "id": "l-jHM1e_5OSp"
   },
   "outputs": [],
   "source": [
    "from sklearn.model_selection import train_test_split"
   ]
  },
  {
   "cell_type": "code",
   "execution_count": 103,
   "id": "0f4fb1ff",
   "metadata": {},
   "outputs": [],
   "source": [
    "X_train, X_test, y_train, y_test = train_test_split(X,y,test_size=0.3)"
   ]
  },
  {
   "cell_type": "markdown",
   "id": "6L5jwTPW5Oh-",
   "metadata": {
    "id": "6L5jwTPW5Oh-"
   },
   "source": [
    "### 23. Train a linear regression model using the training data and print the r_squared value of the prediction on the test data."
   ]
  },
  {
   "cell_type": "code",
   "execution_count": null,
   "id": "HODaP3gg5SHY",
   "metadata": {
    "id": "HODaP3gg5SHY"
   },
   "outputs": [],
   "source": []
  },
  {
   "cell_type": "markdown",
   "id": "388b6163",
   "metadata": {
    "id": "388b6163"
   },
   "source": [
    "### Happy Learning:)"
   ]
  }
 ],
 "metadata": {
  "colab": {
   "name": "W3 - W6 Lab Session.ipynb",
   "provenance": []
  },
  "kernelspec": {
   "display_name": "Python 3 (ipykernel)",
   "language": "python",
   "name": "python3"
  },
  "language_info": {
   "codemirror_mode": {
    "name": "ipython",
    "version": 3
   },
   "file_extension": ".py",
   "mimetype": "text/x-python",
   "name": "python",
   "nbconvert_exporter": "python",
   "pygments_lexer": "ipython3",
   "version": "3.11.5"
  }
 },
 "nbformat": 4,
 "nbformat_minor": 5
}
