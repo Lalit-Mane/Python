{
 "cells": [
  {
   "cell_type": "markdown",
   "id": "9ff74173",
   "metadata": {},
   "source": [
    "# Unsupervised Learning-(E-commerce)\n"
   ]
  },
  {
   "cell_type": "code",
   "execution_count": 1,
   "id": "5f627961",
   "metadata": {},
   "outputs": [],
   "source": [
    "import os"
   ]
  },
  {
   "cell_type": "code",
   "execution_count": 2,
   "id": "d2a2d833",
   "metadata": {},
   "outputs": [
    {
     "data": {
      "text/plain": [
       "'C:\\\\Users\\\\USER'"
      ]
     },
     "execution_count": 2,
     "metadata": {},
     "output_type": "execute_result"
    }
   ],
   "source": [
    "os.getcwd()"
   ]
  },
  {
   "cell_type": "code",
   "execution_count": 3,
   "id": "45554fae",
   "metadata": {},
   "outputs": [],
   "source": [
    "os.chdir(\"C:\\\\Users\\\\USER\\\\Downloads\")"
   ]
  },
  {
   "cell_type": "markdown",
   "id": "e3becc0c",
   "metadata": {},
   "source": [
    "1. Load the required libraries and read the dataset."
   ]
  },
  {
   "cell_type": "code",
   "execution_count": 61,
   "id": "f4a7077a",
   "metadata": {},
   "outputs": [],
   "source": [
    "import pandas as pd\n",
    "import numpy as np\n",
    "import matplotlib.pyplot as plt\n",
    "import seaborn as sns\n",
    "%matplotlib inline"
   ]
  },
  {
   "cell_type": "code",
   "execution_count": 5,
   "id": "b91e9dbd",
   "metadata": {
    "scrolled": true
   },
   "outputs": [],
   "source": [
    "df = pd.read_csv(\"renttherunway.csv\")"
   ]
  },
  {
   "cell_type": "markdown",
   "id": "a4d644f5",
   "metadata": {},
   "source": [
    "2. Check the first few samples, shape, info of the data and try to familiarize\n",
    "yourself with different features"
   ]
  },
  {
   "cell_type": "code",
   "execution_count": 6,
   "id": "58abedd1",
   "metadata": {},
   "outputs": [
    {
     "data": {
      "text/html": [
       "<div>\n",
       "<style scoped>\n",
       "    .dataframe tbody tr th:only-of-type {\n",
       "        vertical-align: middle;\n",
       "    }\n",
       "\n",
       "    .dataframe tbody tr th {\n",
       "        vertical-align: top;\n",
       "    }\n",
       "\n",
       "    .dataframe thead th {\n",
       "        text-align: right;\n",
       "    }\n",
       "</style>\n",
       "<table border=\"1\" class=\"dataframe\">\n",
       "  <thead>\n",
       "    <tr style=\"text-align: right;\">\n",
       "      <th></th>\n",
       "      <th>Unnamed: 0</th>\n",
       "      <th>fit</th>\n",
       "      <th>user_id</th>\n",
       "      <th>bust size</th>\n",
       "      <th>item_id</th>\n",
       "      <th>weight</th>\n",
       "      <th>rating</th>\n",
       "      <th>rented for</th>\n",
       "      <th>review_text</th>\n",
       "      <th>body type</th>\n",
       "      <th>review_summary</th>\n",
       "      <th>category</th>\n",
       "      <th>height</th>\n",
       "      <th>size</th>\n",
       "      <th>age</th>\n",
       "      <th>review_date</th>\n",
       "    </tr>\n",
       "  </thead>\n",
       "  <tbody>\n",
       "    <tr>\n",
       "      <th>0</th>\n",
       "      <td>0</td>\n",
       "      <td>fit</td>\n",
       "      <td>420272</td>\n",
       "      <td>34d</td>\n",
       "      <td>2260466</td>\n",
       "      <td>137lbs</td>\n",
       "      <td>10.0</td>\n",
       "      <td>vacation</td>\n",
       "      <td>An adorable romper! Belt and zipper were a lit...</td>\n",
       "      <td>hourglass</td>\n",
       "      <td>So many compliments!</td>\n",
       "      <td>romper</td>\n",
       "      <td>5' 8\"</td>\n",
       "      <td>14</td>\n",
       "      <td>28.0</td>\n",
       "      <td>April 20, 2016</td>\n",
       "    </tr>\n",
       "    <tr>\n",
       "      <th>1</th>\n",
       "      <td>1</td>\n",
       "      <td>fit</td>\n",
       "      <td>273551</td>\n",
       "      <td>34b</td>\n",
       "      <td>153475</td>\n",
       "      <td>132lbs</td>\n",
       "      <td>10.0</td>\n",
       "      <td>other</td>\n",
       "      <td>I rented this dress for a photo shoot. The the...</td>\n",
       "      <td>straight &amp; narrow</td>\n",
       "      <td>I felt so glamourous!!!</td>\n",
       "      <td>gown</td>\n",
       "      <td>5' 6\"</td>\n",
       "      <td>12</td>\n",
       "      <td>36.0</td>\n",
       "      <td>June 18, 2013</td>\n",
       "    </tr>\n",
       "    <tr>\n",
       "      <th>2</th>\n",
       "      <td>2</td>\n",
       "      <td>fit</td>\n",
       "      <td>360448</td>\n",
       "      <td>NaN</td>\n",
       "      <td>1063761</td>\n",
       "      <td>NaN</td>\n",
       "      <td>10.0</td>\n",
       "      <td>party</td>\n",
       "      <td>This hugged in all the right places! It was a ...</td>\n",
       "      <td>NaN</td>\n",
       "      <td>It was a great time to celebrate the (almost) ...</td>\n",
       "      <td>sheath</td>\n",
       "      <td>5' 4\"</td>\n",
       "      <td>4</td>\n",
       "      <td>116.0</td>\n",
       "      <td>December 14, 2015</td>\n",
       "    </tr>\n",
       "    <tr>\n",
       "      <th>3</th>\n",
       "      <td>3</td>\n",
       "      <td>fit</td>\n",
       "      <td>909926</td>\n",
       "      <td>34c</td>\n",
       "      <td>126335</td>\n",
       "      <td>135lbs</td>\n",
       "      <td>8.0</td>\n",
       "      <td>formal affair</td>\n",
       "      <td>I rented this for my company's black tie award...</td>\n",
       "      <td>pear</td>\n",
       "      <td>Dress arrived on time and in perfect condition.</td>\n",
       "      <td>dress</td>\n",
       "      <td>5' 5\"</td>\n",
       "      <td>8</td>\n",
       "      <td>34.0</td>\n",
       "      <td>February 12, 2014</td>\n",
       "    </tr>\n",
       "    <tr>\n",
       "      <th>4</th>\n",
       "      <td>4</td>\n",
       "      <td>fit</td>\n",
       "      <td>151944</td>\n",
       "      <td>34b</td>\n",
       "      <td>616682</td>\n",
       "      <td>145lbs</td>\n",
       "      <td>10.0</td>\n",
       "      <td>wedding</td>\n",
       "      <td>I have always been petite in my upper body and...</td>\n",
       "      <td>athletic</td>\n",
       "      <td>Was in love with this dress !!!</td>\n",
       "      <td>gown</td>\n",
       "      <td>5' 9\"</td>\n",
       "      <td>12</td>\n",
       "      <td>27.0</td>\n",
       "      <td>September 26, 2016</td>\n",
       "    </tr>\n",
       "  </tbody>\n",
       "</table>\n",
       "</div>"
      ],
      "text/plain": [
       "   Unnamed: 0  fit  user_id bust size  item_id  weight  rating     rented for  \\\n",
       "0           0  fit   420272       34d  2260466  137lbs    10.0       vacation   \n",
       "1           1  fit   273551       34b   153475  132lbs    10.0          other   \n",
       "2           2  fit   360448       NaN  1063761     NaN    10.0          party   \n",
       "3           3  fit   909926       34c   126335  135lbs     8.0  formal affair   \n",
       "4           4  fit   151944       34b   616682  145lbs    10.0        wedding   \n",
       "\n",
       "                                         review_text          body type  \\\n",
       "0  An adorable romper! Belt and zipper were a lit...          hourglass   \n",
       "1  I rented this dress for a photo shoot. The the...  straight & narrow   \n",
       "2  This hugged in all the right places! It was a ...                NaN   \n",
       "3  I rented this for my company's black tie award...               pear   \n",
       "4  I have always been petite in my upper body and...           athletic   \n",
       "\n",
       "                                      review_summary category height  size  \\\n",
       "0                               So many compliments!   romper  5' 8\"    14   \n",
       "1                            I felt so glamourous!!!     gown  5' 6\"    12   \n",
       "2  It was a great time to celebrate the (almost) ...   sheath  5' 4\"     4   \n",
       "3   Dress arrived on time and in perfect condition.     dress  5' 5\"     8   \n",
       "4                    Was in love with this dress !!!     gown  5' 9\"    12   \n",
       "\n",
       "     age         review_date  \n",
       "0   28.0      April 20, 2016  \n",
       "1   36.0       June 18, 2013  \n",
       "2  116.0   December 14, 2015  \n",
       "3   34.0   February 12, 2014  \n",
       "4   27.0  September 26, 2016  "
      ]
     },
     "execution_count": 6,
     "metadata": {},
     "output_type": "execute_result"
    }
   ],
   "source": [
    "df.head()"
   ]
  },
  {
   "cell_type": "code",
   "execution_count": 8,
   "id": "b7787bdd",
   "metadata": {},
   "outputs": [
    {
     "data": {
      "text/plain": [
       "(192544, 16)"
      ]
     },
     "execution_count": 8,
     "metadata": {},
     "output_type": "execute_result"
    }
   ],
   "source": [
    "df.shape"
   ]
  },
  {
   "cell_type": "code",
   "execution_count": 9,
   "id": "3c697e9d",
   "metadata": {},
   "outputs": [
    {
     "name": "stdout",
     "output_type": "stream",
     "text": [
      "<class 'pandas.core.frame.DataFrame'>\n",
      "RangeIndex: 192544 entries, 0 to 192543\n",
      "Data columns (total 16 columns):\n",
      " #   Column          Non-Null Count   Dtype  \n",
      "---  ------          --------------   -----  \n",
      " 0   Unnamed: 0      192544 non-null  int64  \n",
      " 1   fit             192544 non-null  object \n",
      " 2   user_id         192544 non-null  int64  \n",
      " 3   bust size       174133 non-null  object \n",
      " 4   item_id         192544 non-null  int64  \n",
      " 5   weight          162562 non-null  object \n",
      " 6   rating          192462 non-null  float64\n",
      " 7   rented for      192534 non-null  object \n",
      " 8   review_text     192476 non-null  object \n",
      " 9   body type       177907 non-null  object \n",
      " 10  review_summary  192197 non-null  object \n",
      " 11  category        192544 non-null  object \n",
      " 12  height          191867 non-null  object \n",
      " 13  size            192544 non-null  int64  \n",
      " 14  age             191584 non-null  float64\n",
      " 15  review_date     192544 non-null  object \n",
      "dtypes: float64(2), int64(4), object(10)\n",
      "memory usage: 23.5+ MB\n"
     ]
    }
   ],
   "source": [
    "df.info()"
   ]
  },
  {
   "cell_type": "markdown",
   "id": "0d94d4f3",
   "metadata": {},
   "source": [
    "3. Check if there are any duplicate records in the dataset? If any, drop them."
   ]
  },
  {
   "cell_type": "code",
   "execution_count": 15,
   "id": "6d77ae2f",
   "metadata": {},
   "outputs": [
    {
     "data": {
      "text/plain": [
       "0"
      ]
     },
     "execution_count": 15,
     "metadata": {},
     "output_type": "execute_result"
    }
   ],
   "source": [
    "df.duplicated().sum()"
   ]
  },
  {
   "cell_type": "markdown",
   "id": "dbe983f5",
   "metadata": {},
   "source": [
    "4. Drop the columns which you think redundant for the analysis.(Hint: drop\n",
    "columns like ‘id’, ‘review’)"
   ]
  },
  {
   "cell_type": "code",
   "execution_count": 18,
   "id": "ef04c1c2",
   "metadata": {},
   "outputs": [],
   "source": [
    "df.drop('user_id',axis=1,inplace=True)"
   ]
  },
  {
   "cell_type": "code",
   "execution_count": 19,
   "id": "509f136f",
   "metadata": {},
   "outputs": [],
   "source": [
    "df.drop('review_text',axis=1,inplace=True)"
   ]
  },
  {
   "cell_type": "code",
   "execution_count": 21,
   "id": "82cf6efd",
   "metadata": {},
   "outputs": [],
   "source": [
    "df.drop('review_summary',axis=1,inplace=True)"
   ]
  },
  {
   "cell_type": "code",
   "execution_count": 22,
   "id": "6faf1214",
   "metadata": {
    "scrolled": true
   },
   "outputs": [
    {
     "data": {
      "text/html": [
       "<div>\n",
       "<style scoped>\n",
       "    .dataframe tbody tr th:only-of-type {\n",
       "        vertical-align: middle;\n",
       "    }\n",
       "\n",
       "    .dataframe tbody tr th {\n",
       "        vertical-align: top;\n",
       "    }\n",
       "\n",
       "    .dataframe thead th {\n",
       "        text-align: right;\n",
       "    }\n",
       "</style>\n",
       "<table border=\"1\" class=\"dataframe\">\n",
       "  <thead>\n",
       "    <tr style=\"text-align: right;\">\n",
       "      <th></th>\n",
       "      <th>Unnamed: 0</th>\n",
       "      <th>fit</th>\n",
       "      <th>bust size</th>\n",
       "      <th>item_id</th>\n",
       "      <th>weight</th>\n",
       "      <th>rating</th>\n",
       "      <th>rented for</th>\n",
       "      <th>body type</th>\n",
       "      <th>category</th>\n",
       "      <th>height</th>\n",
       "      <th>size</th>\n",
       "      <th>age</th>\n",
       "      <th>review_date</th>\n",
       "    </tr>\n",
       "  </thead>\n",
       "  <tbody>\n",
       "    <tr>\n",
       "      <th>0</th>\n",
       "      <td>0</td>\n",
       "      <td>fit</td>\n",
       "      <td>34d</td>\n",
       "      <td>2260466</td>\n",
       "      <td>137lbs</td>\n",
       "      <td>10.0</td>\n",
       "      <td>vacation</td>\n",
       "      <td>hourglass</td>\n",
       "      <td>romper</td>\n",
       "      <td>5' 8\"</td>\n",
       "      <td>14</td>\n",
       "      <td>28.0</td>\n",
       "      <td>April 20, 2016</td>\n",
       "    </tr>\n",
       "    <tr>\n",
       "      <th>1</th>\n",
       "      <td>1</td>\n",
       "      <td>fit</td>\n",
       "      <td>34b</td>\n",
       "      <td>153475</td>\n",
       "      <td>132lbs</td>\n",
       "      <td>10.0</td>\n",
       "      <td>other</td>\n",
       "      <td>straight &amp; narrow</td>\n",
       "      <td>gown</td>\n",
       "      <td>5' 6\"</td>\n",
       "      <td>12</td>\n",
       "      <td>36.0</td>\n",
       "      <td>June 18, 2013</td>\n",
       "    </tr>\n",
       "    <tr>\n",
       "      <th>2</th>\n",
       "      <td>2</td>\n",
       "      <td>fit</td>\n",
       "      <td>NaN</td>\n",
       "      <td>1063761</td>\n",
       "      <td>NaN</td>\n",
       "      <td>10.0</td>\n",
       "      <td>party</td>\n",
       "      <td>NaN</td>\n",
       "      <td>sheath</td>\n",
       "      <td>5' 4\"</td>\n",
       "      <td>4</td>\n",
       "      <td>116.0</td>\n",
       "      <td>December 14, 2015</td>\n",
       "    </tr>\n",
       "    <tr>\n",
       "      <th>3</th>\n",
       "      <td>3</td>\n",
       "      <td>fit</td>\n",
       "      <td>34c</td>\n",
       "      <td>126335</td>\n",
       "      <td>135lbs</td>\n",
       "      <td>8.0</td>\n",
       "      <td>formal affair</td>\n",
       "      <td>pear</td>\n",
       "      <td>dress</td>\n",
       "      <td>5' 5\"</td>\n",
       "      <td>8</td>\n",
       "      <td>34.0</td>\n",
       "      <td>February 12, 2014</td>\n",
       "    </tr>\n",
       "    <tr>\n",
       "      <th>4</th>\n",
       "      <td>4</td>\n",
       "      <td>fit</td>\n",
       "      <td>34b</td>\n",
       "      <td>616682</td>\n",
       "      <td>145lbs</td>\n",
       "      <td>10.0</td>\n",
       "      <td>wedding</td>\n",
       "      <td>athletic</td>\n",
       "      <td>gown</td>\n",
       "      <td>5' 9\"</td>\n",
       "      <td>12</td>\n",
       "      <td>27.0</td>\n",
       "      <td>September 26, 2016</td>\n",
       "    </tr>\n",
       "    <tr>\n",
       "      <th>...</th>\n",
       "      <td>...</td>\n",
       "      <td>...</td>\n",
       "      <td>...</td>\n",
       "      <td>...</td>\n",
       "      <td>...</td>\n",
       "      <td>...</td>\n",
       "      <td>...</td>\n",
       "      <td>...</td>\n",
       "      <td>...</td>\n",
       "      <td>...</td>\n",
       "      <td>...</td>\n",
       "      <td>...</td>\n",
       "      <td>...</td>\n",
       "    </tr>\n",
       "    <tr>\n",
       "      <th>192539</th>\n",
       "      <td>192539</td>\n",
       "      <td>fit</td>\n",
       "      <td>34dd</td>\n",
       "      <td>2252812</td>\n",
       "      <td>140lbs</td>\n",
       "      <td>10.0</td>\n",
       "      <td>work</td>\n",
       "      <td>hourglass</td>\n",
       "      <td>jumpsuit</td>\n",
       "      <td>5' 9\"</td>\n",
       "      <td>8</td>\n",
       "      <td>42.0</td>\n",
       "      <td>May 18, 2016</td>\n",
       "    </tr>\n",
       "    <tr>\n",
       "      <th>192540</th>\n",
       "      <td>192540</td>\n",
       "      <td>fit</td>\n",
       "      <td>32c</td>\n",
       "      <td>682043</td>\n",
       "      <td>100lbs</td>\n",
       "      <td>10.0</td>\n",
       "      <td>work</td>\n",
       "      <td>petite</td>\n",
       "      <td>dress</td>\n",
       "      <td>5' 1\"</td>\n",
       "      <td>4</td>\n",
       "      <td>29.0</td>\n",
       "      <td>September 30, 2016</td>\n",
       "    </tr>\n",
       "    <tr>\n",
       "      <th>192541</th>\n",
       "      <td>192541</td>\n",
       "      <td>fit</td>\n",
       "      <td>36a</td>\n",
       "      <td>683251</td>\n",
       "      <td>135lbs</td>\n",
       "      <td>6.0</td>\n",
       "      <td>everyday</td>\n",
       "      <td>straight &amp; narrow</td>\n",
       "      <td>dress</td>\n",
       "      <td>5' 8\"</td>\n",
       "      <td>8</td>\n",
       "      <td>31.0</td>\n",
       "      <td>March 4, 2016</td>\n",
       "    </tr>\n",
       "    <tr>\n",
       "      <th>192542</th>\n",
       "      <td>192542</td>\n",
       "      <td>fit</td>\n",
       "      <td>36c</td>\n",
       "      <td>126335</td>\n",
       "      <td>165lbs</td>\n",
       "      <td>10.0</td>\n",
       "      <td>wedding</td>\n",
       "      <td>pear</td>\n",
       "      <td>dress</td>\n",
       "      <td>5' 6\"</td>\n",
       "      <td>16</td>\n",
       "      <td>31.0</td>\n",
       "      <td>November 25, 2015</td>\n",
       "    </tr>\n",
       "    <tr>\n",
       "      <th>192543</th>\n",
       "      <td>192543</td>\n",
       "      <td>fit</td>\n",
       "      <td>36b</td>\n",
       "      <td>127865</td>\n",
       "      <td>155lbs</td>\n",
       "      <td>10.0</td>\n",
       "      <td>wedding</td>\n",
       "      <td>athletic</td>\n",
       "      <td>gown</td>\n",
       "      <td>5' 6\"</td>\n",
       "      <td>16</td>\n",
       "      <td>30.0</td>\n",
       "      <td>August 29, 2017</td>\n",
       "    </tr>\n",
       "  </tbody>\n",
       "</table>\n",
       "<p>192544 rows × 13 columns</p>\n",
       "</div>"
      ],
      "text/plain": [
       "        Unnamed: 0  fit bust size  item_id  weight  rating     rented for  \\\n",
       "0                0  fit       34d  2260466  137lbs    10.0       vacation   \n",
       "1                1  fit       34b   153475  132lbs    10.0          other   \n",
       "2                2  fit       NaN  1063761     NaN    10.0          party   \n",
       "3                3  fit       34c   126335  135lbs     8.0  formal affair   \n",
       "4                4  fit       34b   616682  145lbs    10.0        wedding   \n",
       "...            ...  ...       ...      ...     ...     ...            ...   \n",
       "192539      192539  fit      34dd  2252812  140lbs    10.0           work   \n",
       "192540      192540  fit       32c   682043  100lbs    10.0           work   \n",
       "192541      192541  fit       36a   683251  135lbs     6.0       everyday   \n",
       "192542      192542  fit       36c   126335  165lbs    10.0        wedding   \n",
       "192543      192543  fit       36b   127865  155lbs    10.0        wedding   \n",
       "\n",
       "                body type  category height  size    age         review_date  \n",
       "0               hourglass    romper  5' 8\"    14   28.0      April 20, 2016  \n",
       "1       straight & narrow      gown  5' 6\"    12   36.0       June 18, 2013  \n",
       "2                     NaN    sheath  5' 4\"     4  116.0   December 14, 2015  \n",
       "3                    pear     dress  5' 5\"     8   34.0   February 12, 2014  \n",
       "4                athletic      gown  5' 9\"    12   27.0  September 26, 2016  \n",
       "...                   ...       ...    ...   ...    ...                 ...  \n",
       "192539          hourglass  jumpsuit  5' 9\"     8   42.0        May 18, 2016  \n",
       "192540             petite     dress  5' 1\"     4   29.0  September 30, 2016  \n",
       "192541  straight & narrow     dress  5' 8\"     8   31.0       March 4, 2016  \n",
       "192542               pear     dress  5' 6\"    16   31.0   November 25, 2015  \n",
       "192543           athletic      gown  5' 6\"    16   30.0     August 29, 2017  \n",
       "\n",
       "[192544 rows x 13 columns]"
      ]
     },
     "execution_count": 22,
     "metadata": {},
     "output_type": "execute_result"
    }
   ],
   "source": [
    "df"
   ]
  },
  {
   "cell_type": "markdown",
   "id": "6f88f527",
   "metadata": {},
   "source": [
    "5. Check the column 'weight', Is there any presence of string data? If yes, remove\n",
    "the string data and convert to float. (Hint: 'weight' has the suffix as lbs) "
   ]
  },
  {
   "cell_type": "code",
   "execution_count": 38,
   "id": "c13f1b24",
   "metadata": {},
   "outputs": [
    {
     "data": {
      "text/plain": [
       "dtype('O')"
      ]
     },
     "execution_count": 38,
     "metadata": {},
     "output_type": "execute_result"
    }
   ],
   "source": [
    "df['weight'].dtype"
   ]
  },
  {
   "cell_type": "code",
   "execution_count": 40,
   "id": "1f9d3204",
   "metadata": {},
   "outputs": [],
   "source": [
    "df['weight'] = df['weight'].str.replace('lbs')"
   ]
  },
  {
   "cell_type": "code",
   "execution_count": 42,
   "id": "050a103a",
   "metadata": {},
   "outputs": [
    {
     "data": {
      "text/html": [
       "<div>\n",
       "<style scoped>\n",
       "    .dataframe tbody tr th:only-of-type {\n",
       "        vertical-align: middle;\n",
       "    }\n",
       "\n",
       "    .dataframe tbody tr th {\n",
       "        vertical-align: top;\n",
       "    }\n",
       "\n",
       "    .dataframe thead th {\n",
       "        text-align: right;\n",
       "    }\n",
       "</style>\n",
       "<table border=\"1\" class=\"dataframe\">\n",
       "  <thead>\n",
       "    <tr style=\"text-align: right;\">\n",
       "      <th></th>\n",
       "      <th>Unnamed: 0</th>\n",
       "      <th>fit</th>\n",
       "      <th>bust size</th>\n",
       "      <th>item_id</th>\n",
       "      <th>weight</th>\n",
       "      <th>rating</th>\n",
       "      <th>rented for</th>\n",
       "      <th>body type</th>\n",
       "      <th>category</th>\n",
       "      <th>height</th>\n",
       "      <th>size</th>\n",
       "      <th>age</th>\n",
       "      <th>review_date</th>\n",
       "    </tr>\n",
       "  </thead>\n",
       "  <tbody>\n",
       "    <tr>\n",
       "      <th>0</th>\n",
       "      <td>0</td>\n",
       "      <td>fit</td>\n",
       "      <td>34d</td>\n",
       "      <td>2260466</td>\n",
       "      <td>137</td>\n",
       "      <td>10.0</td>\n",
       "      <td>vacation</td>\n",
       "      <td>hourglass</td>\n",
       "      <td>romper</td>\n",
       "      <td>5' 8\"</td>\n",
       "      <td>14</td>\n",
       "      <td>28.0</td>\n",
       "      <td>April 20, 2016</td>\n",
       "    </tr>\n",
       "    <tr>\n",
       "      <th>1</th>\n",
       "      <td>1</td>\n",
       "      <td>fit</td>\n",
       "      <td>34b</td>\n",
       "      <td>153475</td>\n",
       "      <td>132</td>\n",
       "      <td>10.0</td>\n",
       "      <td>other</td>\n",
       "      <td>straight &amp; narrow</td>\n",
       "      <td>gown</td>\n",
       "      <td>5' 6\"</td>\n",
       "      <td>12</td>\n",
       "      <td>36.0</td>\n",
       "      <td>June 18, 2013</td>\n",
       "    </tr>\n",
       "    <tr>\n",
       "      <th>2</th>\n",
       "      <td>2</td>\n",
       "      <td>fit</td>\n",
       "      <td>NaN</td>\n",
       "      <td>1063761</td>\n",
       "      <td>NaN</td>\n",
       "      <td>10.0</td>\n",
       "      <td>party</td>\n",
       "      <td>NaN</td>\n",
       "      <td>sheath</td>\n",
       "      <td>5' 4\"</td>\n",
       "      <td>4</td>\n",
       "      <td>116.0</td>\n",
       "      <td>December 14, 2015</td>\n",
       "    </tr>\n",
       "    <tr>\n",
       "      <th>3</th>\n",
       "      <td>3</td>\n",
       "      <td>fit</td>\n",
       "      <td>34c</td>\n",
       "      <td>126335</td>\n",
       "      <td>135</td>\n",
       "      <td>8.0</td>\n",
       "      <td>formal affair</td>\n",
       "      <td>pear</td>\n",
       "      <td>dress</td>\n",
       "      <td>5' 5\"</td>\n",
       "      <td>8</td>\n",
       "      <td>34.0</td>\n",
       "      <td>February 12, 2014</td>\n",
       "    </tr>\n",
       "    <tr>\n",
       "      <th>4</th>\n",
       "      <td>4</td>\n",
       "      <td>fit</td>\n",
       "      <td>34b</td>\n",
       "      <td>616682</td>\n",
       "      <td>145</td>\n",
       "      <td>10.0</td>\n",
       "      <td>wedding</td>\n",
       "      <td>athletic</td>\n",
       "      <td>gown</td>\n",
       "      <td>5' 9\"</td>\n",
       "      <td>12</td>\n",
       "      <td>27.0</td>\n",
       "      <td>September 26, 2016</td>\n",
       "    </tr>\n",
       "    <tr>\n",
       "      <th>...</th>\n",
       "      <td>...</td>\n",
       "      <td>...</td>\n",
       "      <td>...</td>\n",
       "      <td>...</td>\n",
       "      <td>...</td>\n",
       "      <td>...</td>\n",
       "      <td>...</td>\n",
       "      <td>...</td>\n",
       "      <td>...</td>\n",
       "      <td>...</td>\n",
       "      <td>...</td>\n",
       "      <td>...</td>\n",
       "      <td>...</td>\n",
       "    </tr>\n",
       "    <tr>\n",
       "      <th>192539</th>\n",
       "      <td>192539</td>\n",
       "      <td>fit</td>\n",
       "      <td>34dd</td>\n",
       "      <td>2252812</td>\n",
       "      <td>140</td>\n",
       "      <td>10.0</td>\n",
       "      <td>work</td>\n",
       "      <td>hourglass</td>\n",
       "      <td>jumpsuit</td>\n",
       "      <td>5' 9\"</td>\n",
       "      <td>8</td>\n",
       "      <td>42.0</td>\n",
       "      <td>May 18, 2016</td>\n",
       "    </tr>\n",
       "    <tr>\n",
       "      <th>192540</th>\n",
       "      <td>192540</td>\n",
       "      <td>fit</td>\n",
       "      <td>32c</td>\n",
       "      <td>682043</td>\n",
       "      <td>100</td>\n",
       "      <td>10.0</td>\n",
       "      <td>work</td>\n",
       "      <td>petite</td>\n",
       "      <td>dress</td>\n",
       "      <td>5' 1\"</td>\n",
       "      <td>4</td>\n",
       "      <td>29.0</td>\n",
       "      <td>September 30, 2016</td>\n",
       "    </tr>\n",
       "    <tr>\n",
       "      <th>192541</th>\n",
       "      <td>192541</td>\n",
       "      <td>fit</td>\n",
       "      <td>36a</td>\n",
       "      <td>683251</td>\n",
       "      <td>135</td>\n",
       "      <td>6.0</td>\n",
       "      <td>everyday</td>\n",
       "      <td>straight &amp; narrow</td>\n",
       "      <td>dress</td>\n",
       "      <td>5' 8\"</td>\n",
       "      <td>8</td>\n",
       "      <td>31.0</td>\n",
       "      <td>March 4, 2016</td>\n",
       "    </tr>\n",
       "    <tr>\n",
       "      <th>192542</th>\n",
       "      <td>192542</td>\n",
       "      <td>fit</td>\n",
       "      <td>36c</td>\n",
       "      <td>126335</td>\n",
       "      <td>165</td>\n",
       "      <td>10.0</td>\n",
       "      <td>wedding</td>\n",
       "      <td>pear</td>\n",
       "      <td>dress</td>\n",
       "      <td>5' 6\"</td>\n",
       "      <td>16</td>\n",
       "      <td>31.0</td>\n",
       "      <td>November 25, 2015</td>\n",
       "    </tr>\n",
       "    <tr>\n",
       "      <th>192543</th>\n",
       "      <td>192543</td>\n",
       "      <td>fit</td>\n",
       "      <td>36b</td>\n",
       "      <td>127865</td>\n",
       "      <td>155</td>\n",
       "      <td>10.0</td>\n",
       "      <td>wedding</td>\n",
       "      <td>athletic</td>\n",
       "      <td>gown</td>\n",
       "      <td>5' 6\"</td>\n",
       "      <td>16</td>\n",
       "      <td>30.0</td>\n",
       "      <td>August 29, 2017</td>\n",
       "    </tr>\n",
       "  </tbody>\n",
       "</table>\n",
       "<p>192544 rows × 13 columns</p>\n",
       "</div>"
      ],
      "text/plain": [
       "        Unnamed: 0  fit bust size  item_id weight  rating     rented for  \\\n",
       "0                0  fit       34d  2260466    137    10.0       vacation   \n",
       "1                1  fit       34b   153475    132    10.0          other   \n",
       "2                2  fit       NaN  1063761    NaN    10.0          party   \n",
       "3                3  fit       34c   126335    135     8.0  formal affair   \n",
       "4                4  fit       34b   616682    145    10.0        wedding   \n",
       "...            ...  ...       ...      ...    ...     ...            ...   \n",
       "192539      192539  fit      34dd  2252812    140    10.0           work   \n",
       "192540      192540  fit       32c   682043    100    10.0           work   \n",
       "192541      192541  fit       36a   683251    135     6.0       everyday   \n",
       "192542      192542  fit       36c   126335    165    10.0        wedding   \n",
       "192543      192543  fit       36b   127865    155    10.0        wedding   \n",
       "\n",
       "                body type  category height  size    age         review_date  \n",
       "0               hourglass    romper  5' 8\"    14   28.0      April 20, 2016  \n",
       "1       straight & narrow      gown  5' 6\"    12   36.0       June 18, 2013  \n",
       "2                     NaN    sheath  5' 4\"     4  116.0   December 14, 2015  \n",
       "3                    pear     dress  5' 5\"     8   34.0   February 12, 2014  \n",
       "4                athletic      gown  5' 9\"    12   27.0  September 26, 2016  \n",
       "...                   ...       ...    ...   ...    ...                 ...  \n",
       "192539          hourglass  jumpsuit  5' 9\"     8   42.0        May 18, 2016  \n",
       "192540             petite     dress  5' 1\"     4   29.0  September 30, 2016  \n",
       "192541  straight & narrow     dress  5' 8\"     8   31.0       March 4, 2016  \n",
       "192542               pear     dress  5' 6\"    16   31.0   November 25, 2015  \n",
       "192543           athletic      gown  5' 6\"    16   30.0     August 29, 2017  \n",
       "\n",
       "[192544 rows x 13 columns]"
      ]
     },
     "execution_count": 42,
     "metadata": {},
     "output_type": "execute_result"
    }
   ],
   "source": [
    "df"
   ]
  },
  {
   "cell_type": "markdown",
   "id": "bebc78c6",
   "metadata": {},
   "source": [
    "6. Check the unique categories for the column 'rented for' and group 'party:\n",
    "cocktail' category with 'party'. "
   ]
  },
  {
   "cell_type": "code",
   "execution_count": 45,
   "id": "050ab140",
   "metadata": {
    "scrolled": true
   },
   "outputs": [
    {
     "data": {
      "text/plain": [
       "array(['vacation', 'other', 'party', 'formal affair', 'wedding', 'date',\n",
       "       'everyday', 'work', nan, 'party: cocktail'], dtype=object)"
      ]
     },
     "execution_count": 45,
     "metadata": {},
     "output_type": "execute_result"
    }
   ],
   "source": [
    "df['rented for'].unique()"
   ]
  },
  {
   "cell_type": "markdown",
   "id": "88ebcb69",
   "metadata": {},
   "source": [
    "7. The column 'height' is in feet with a quotation mark, Convert to inches with\n",
    "float datatype. "
   ]
  },
  {
   "cell_type": "code",
   "execution_count": null,
   "id": "fd4af491",
   "metadata": {},
   "outputs": [],
   "source": [
    "df('height_inches') = (df.height.str.split(\" ' \").str[0].astype(float)*12) + df.Height.str.split(\"'\").str[1].astype(float)"
   ]
  },
  {
   "cell_type": "markdown",
   "id": "bf0da47f",
   "metadata": {},
   "source": [
    "8. Check for missing values in each column of the dataset? If it exists, impute\n",
    "them with appropriate methods."
   ]
  },
  {
   "cell_type": "code",
   "execution_count": 47,
   "id": "dff76a24",
   "metadata": {},
   "outputs": [
    {
     "data": {
      "text/plain": [
       "Unnamed: 0         0\n",
       "fit                0\n",
       "bust size      18411\n",
       "item_id            0\n",
       "weight         29982\n",
       "rating            82\n",
       "rented for        10\n",
       "body type      14637\n",
       "category           0\n",
       "height           677\n",
       "size               0\n",
       "age              960\n",
       "review_date        0\n",
       "dtype: int64"
      ]
     },
     "execution_count": 47,
     "metadata": {},
     "output_type": "execute_result"
    }
   ],
   "source": [
    "df.isnull().sum()"
   ]
  },
  {
   "cell_type": "code",
   "execution_count": 90,
   "id": "91586b24",
   "metadata": {},
   "outputs": [
    {
     "data": {
      "text/plain": [
       "0"
      ]
     },
     "execution_count": 90,
     "metadata": {},
     "output_type": "execute_result"
    }
   ],
   "source": [
    "df.isnull().sum().sum()"
   ]
  },
  {
   "cell_type": "code",
   "execution_count": 91,
   "id": "87a32e02",
   "metadata": {},
   "outputs": [
    {
     "data": {
      "text/html": [
       "<div>\n",
       "<style scoped>\n",
       "    .dataframe tbody tr th:only-of-type {\n",
       "        vertical-align: middle;\n",
       "    }\n",
       "\n",
       "    .dataframe tbody tr th {\n",
       "        vertical-align: top;\n",
       "    }\n",
       "\n",
       "    .dataframe thead th {\n",
       "        text-align: right;\n",
       "    }\n",
       "</style>\n",
       "<table border=\"1\" class=\"dataframe\">\n",
       "  <thead>\n",
       "    <tr style=\"text-align: right;\">\n",
       "      <th></th>\n",
       "      <th>Unnamed: 0</th>\n",
       "      <th>fit</th>\n",
       "      <th>bust size</th>\n",
       "      <th>item_id</th>\n",
       "      <th>weight</th>\n",
       "      <th>rating</th>\n",
       "      <th>rented for</th>\n",
       "      <th>body type</th>\n",
       "      <th>category</th>\n",
       "      <th>height</th>\n",
       "      <th>size</th>\n",
       "      <th>age</th>\n",
       "      <th>review_date</th>\n",
       "    </tr>\n",
       "  </thead>\n",
       "  <tbody>\n",
       "    <tr>\n",
       "      <th>0</th>\n",
       "      <td>0</td>\n",
       "      <td>0</td>\n",
       "      <td>34d</td>\n",
       "      <td>2260466</td>\n",
       "      <td>137</td>\n",
       "      <td>10.0</td>\n",
       "      <td>vacation</td>\n",
       "      <td>hourglass</td>\n",
       "      <td>romper</td>\n",
       "      <td>5' 8\"</td>\n",
       "      <td>14</td>\n",
       "      <td>28.0</td>\n",
       "      <td>77</td>\n",
       "    </tr>\n",
       "    <tr>\n",
       "      <th>1</th>\n",
       "      <td>1</td>\n",
       "      <td>0</td>\n",
       "      <td>34b</td>\n",
       "      <td>153475</td>\n",
       "      <td>132</td>\n",
       "      <td>10.0</td>\n",
       "      <td>other</td>\n",
       "      <td>straight &amp; narrow</td>\n",
       "      <td>gown</td>\n",
       "      <td>5' 6\"</td>\n",
       "      <td>12</td>\n",
       "      <td>36.0</td>\n",
       "      <td>1189</td>\n",
       "    </tr>\n",
       "    <tr>\n",
       "      <th>2</th>\n",
       "      <td>2</td>\n",
       "      <td>0</td>\n",
       "      <td>0</td>\n",
       "      <td>1063761</td>\n",
       "      <td>0</td>\n",
       "      <td>10.0</td>\n",
       "      <td>party</td>\n",
       "      <td>0</td>\n",
       "      <td>sheath</td>\n",
       "      <td>5' 4\"</td>\n",
       "      <td>4</td>\n",
       "      <td>116.0</td>\n",
       "      <td>411</td>\n",
       "    </tr>\n",
       "    <tr>\n",
       "      <th>3</th>\n",
       "      <td>3</td>\n",
       "      <td>0</td>\n",
       "      <td>34c</td>\n",
       "      <td>126335</td>\n",
       "      <td>135</td>\n",
       "      <td>8.0</td>\n",
       "      <td>formal affair</td>\n",
       "      <td>pear</td>\n",
       "      <td>dress</td>\n",
       "      <td>5' 5\"</td>\n",
       "      <td>8</td>\n",
       "      <td>34.0</td>\n",
       "      <td>607</td>\n",
       "    </tr>\n",
       "    <tr>\n",
       "      <th>4</th>\n",
       "      <td>4</td>\n",
       "      <td>0</td>\n",
       "      <td>34b</td>\n",
       "      <td>616682</td>\n",
       "      <td>145</td>\n",
       "      <td>10.0</td>\n",
       "      <td>wedding</td>\n",
       "      <td>athletic</td>\n",
       "      <td>gown</td>\n",
       "      <td>5' 9\"</td>\n",
       "      <td>12</td>\n",
       "      <td>27.0</td>\n",
       "      <td>2205</td>\n",
       "    </tr>\n",
       "    <tr>\n",
       "      <th>...</th>\n",
       "      <td>...</td>\n",
       "      <td>...</td>\n",
       "      <td>...</td>\n",
       "      <td>...</td>\n",
       "      <td>...</td>\n",
       "      <td>...</td>\n",
       "      <td>...</td>\n",
       "      <td>...</td>\n",
       "      <td>...</td>\n",
       "      <td>...</td>\n",
       "      <td>...</td>\n",
       "      <td>...</td>\n",
       "      <td>...</td>\n",
       "    </tr>\n",
       "    <tr>\n",
       "      <th>192539</th>\n",
       "      <td>192539</td>\n",
       "      <td>0</td>\n",
       "      <td>34dd</td>\n",
       "      <td>2252812</td>\n",
       "      <td>140</td>\n",
       "      <td>10.0</td>\n",
       "      <td>work</td>\n",
       "      <td>hourglass</td>\n",
       "      <td>jumpsuit</td>\n",
       "      <td>5' 9\"</td>\n",
       "      <td>8</td>\n",
       "      <td>42.0</td>\n",
       "      <td>1558</td>\n",
       "    </tr>\n",
       "    <tr>\n",
       "      <th>192540</th>\n",
       "      <td>192540</td>\n",
       "      <td>0</td>\n",
       "      <td>32c</td>\n",
       "      <td>682043</td>\n",
       "      <td>100</td>\n",
       "      <td>10.0</td>\n",
       "      <td>work</td>\n",
       "      <td>petite</td>\n",
       "      <td>dress</td>\n",
       "      <td>5' 1\"</td>\n",
       "      <td>4</td>\n",
       "      <td>29.0</td>\n",
       "      <td>2236</td>\n",
       "    </tr>\n",
       "    <tr>\n",
       "      <th>192541</th>\n",
       "      <td>192541</td>\n",
       "      <td>0</td>\n",
       "      <td>36a</td>\n",
       "      <td>683251</td>\n",
       "      <td>135</td>\n",
       "      <td>6.0</td>\n",
       "      <td>everyday</td>\n",
       "      <td>straight &amp; narrow</td>\n",
       "      <td>dress</td>\n",
       "      <td>5' 8\"</td>\n",
       "      <td>8</td>\n",
       "      <td>31.0</td>\n",
       "      <td>1466</td>\n",
       "    </tr>\n",
       "    <tr>\n",
       "      <th>192542</th>\n",
       "      <td>192542</td>\n",
       "      <td>0</td>\n",
       "      <td>36c</td>\n",
       "      <td>126335</td>\n",
       "      <td>165</td>\n",
       "      <td>10.0</td>\n",
       "      <td>wedding</td>\n",
       "      <td>pear</td>\n",
       "      <td>dress</td>\n",
       "      <td>5' 6\"</td>\n",
       "      <td>16</td>\n",
       "      <td>31.0</td>\n",
       "      <td>1807</td>\n",
       "    </tr>\n",
       "    <tr>\n",
       "      <th>192543</th>\n",
       "      <td>192543</td>\n",
       "      <td>0</td>\n",
       "      <td>36b</td>\n",
       "      <td>127865</td>\n",
       "      <td>155</td>\n",
       "      <td>10.0</td>\n",
       "      <td>wedding</td>\n",
       "      <td>athletic</td>\n",
       "      <td>gown</td>\n",
       "      <td>5' 6\"</td>\n",
       "      <td>16</td>\n",
       "      <td>30.0</td>\n",
       "      <td>316</td>\n",
       "    </tr>\n",
       "  </tbody>\n",
       "</table>\n",
       "<p>192544 rows × 13 columns</p>\n",
       "</div>"
      ],
      "text/plain": [
       "        Unnamed: 0  fit bust size  item_id weight  rating     rented for  \\\n",
       "0                0    0       34d  2260466    137    10.0       vacation   \n",
       "1                1    0       34b   153475    132    10.0          other   \n",
       "2                2    0         0  1063761      0    10.0          party   \n",
       "3                3    0       34c   126335    135     8.0  formal affair   \n",
       "4                4    0       34b   616682    145    10.0        wedding   \n",
       "...            ...  ...       ...      ...    ...     ...            ...   \n",
       "192539      192539    0      34dd  2252812    140    10.0           work   \n",
       "192540      192540    0       32c   682043    100    10.0           work   \n",
       "192541      192541    0       36a   683251    135     6.0       everyday   \n",
       "192542      192542    0       36c   126335    165    10.0        wedding   \n",
       "192543      192543    0       36b   127865    155    10.0        wedding   \n",
       "\n",
       "                body type  category height  size    age  review_date  \n",
       "0               hourglass    romper  5' 8\"    14   28.0           77  \n",
       "1       straight & narrow      gown  5' 6\"    12   36.0         1189  \n",
       "2                       0    sheath  5' 4\"     4  116.0          411  \n",
       "3                    pear     dress  5' 5\"     8   34.0          607  \n",
       "4                athletic      gown  5' 9\"    12   27.0         2205  \n",
       "...                   ...       ...    ...   ...    ...          ...  \n",
       "192539          hourglass  jumpsuit  5' 9\"     8   42.0         1558  \n",
       "192540             petite     dress  5' 1\"     4   29.0         2236  \n",
       "192541  straight & narrow     dress  5' 8\"     8   31.0         1466  \n",
       "192542               pear     dress  5' 6\"    16   31.0         1807  \n",
       "192543           athletic      gown  5' 6\"    16   30.0          316  \n",
       "\n",
       "[192544 rows x 13 columns]"
      ]
     },
     "execution_count": 91,
     "metadata": {},
     "output_type": "execute_result"
    }
   ],
   "source": [
    "df = df.fillna(value = 0)\n",
    "df"
   ]
  },
  {
   "cell_type": "markdown",
   "id": "d6830a77",
   "metadata": {},
   "source": [
    "9. Check the statistical summary for the numerical and categorical columns and\n",
    "write your findings."
   ]
  },
  {
   "cell_type": "code",
   "execution_count": 92,
   "id": "22b1d395",
   "metadata": {},
   "outputs": [
    {
     "data": {
      "text/html": [
       "<div>\n",
       "<style scoped>\n",
       "    .dataframe tbody tr th:only-of-type {\n",
       "        vertical-align: middle;\n",
       "    }\n",
       "\n",
       "    .dataframe tbody tr th {\n",
       "        vertical-align: top;\n",
       "    }\n",
       "\n",
       "    .dataframe thead th {\n",
       "        text-align: right;\n",
       "    }\n",
       "</style>\n",
       "<table border=\"1\" class=\"dataframe\">\n",
       "  <thead>\n",
       "    <tr style=\"text-align: right;\">\n",
       "      <th></th>\n",
       "      <th>Unnamed: 0</th>\n",
       "      <th>fit</th>\n",
       "      <th>item_id</th>\n",
       "      <th>rating</th>\n",
       "      <th>size</th>\n",
       "      <th>age</th>\n",
       "      <th>review_date</th>\n",
       "    </tr>\n",
       "  </thead>\n",
       "  <tbody>\n",
       "    <tr>\n",
       "      <th>count</th>\n",
       "      <td>192544.000000</td>\n",
       "      <td>192544.000000</td>\n",
       "      <td>1.925440e+05</td>\n",
       "      <td>192544.000000</td>\n",
       "      <td>192544.000000</td>\n",
       "      <td>192544.000000</td>\n",
       "      <td>192544.000000</td>\n",
       "    </tr>\n",
       "    <tr>\n",
       "      <th>mean</th>\n",
       "      <td>96271.500000</td>\n",
       "      <td>0.396091</td>\n",
       "      <td>1.045684e+06</td>\n",
       "      <td>9.088499</td>\n",
       "      <td>12.245175</td>\n",
       "      <td>33.702141</td>\n",
       "      <td>1182.783089</td>\n",
       "    </tr>\n",
       "    <tr>\n",
       "      <th>std</th>\n",
       "      <td>55582.809453</td>\n",
       "      <td>0.712024</td>\n",
       "      <td>8.053148e+05</td>\n",
       "      <td>1.441995</td>\n",
       "      <td>8.494877</td>\n",
       "      <td>8.384539</td>\n",
       "      <td>669.944180</td>\n",
       "    </tr>\n",
       "    <tr>\n",
       "      <th>min</th>\n",
       "      <td>0.000000</td>\n",
       "      <td>0.000000</td>\n",
       "      <td>1.233730e+05</td>\n",
       "      <td>0.000000</td>\n",
       "      <td>0.000000</td>\n",
       "      <td>0.000000</td>\n",
       "      <td>0.000000</td>\n",
       "    </tr>\n",
       "    <tr>\n",
       "      <th>25%</th>\n",
       "      <td>48135.750000</td>\n",
       "      <td>0.000000</td>\n",
       "      <td>1.950760e+05</td>\n",
       "      <td>8.000000</td>\n",
       "      <td>8.000000</td>\n",
       "      <td>29.000000</td>\n",
       "      <td>583.000000</td>\n",
       "    </tr>\n",
       "    <tr>\n",
       "      <th>50%</th>\n",
       "      <td>96271.500000</td>\n",
       "      <td>0.000000</td>\n",
       "      <td>9.483960e+05</td>\n",
       "      <td>10.000000</td>\n",
       "      <td>12.000000</td>\n",
       "      <td>32.000000</td>\n",
       "      <td>1225.000000</td>\n",
       "    </tr>\n",
       "    <tr>\n",
       "      <th>75%</th>\n",
       "      <td>144407.250000</td>\n",
       "      <td>1.000000</td>\n",
       "      <td>1.678888e+06</td>\n",
       "      <td>10.000000</td>\n",
       "      <td>16.000000</td>\n",
       "      <td>37.000000</td>\n",
       "      <td>1760.000000</td>\n",
       "    </tr>\n",
       "    <tr>\n",
       "      <th>max</th>\n",
       "      <td>192543.000000</td>\n",
       "      <td>2.000000</td>\n",
       "      <td>2.966087e+06</td>\n",
       "      <td>10.000000</td>\n",
       "      <td>58.000000</td>\n",
       "      <td>117.000000</td>\n",
       "      <td>2273.000000</td>\n",
       "    </tr>\n",
       "  </tbody>\n",
       "</table>\n",
       "</div>"
      ],
      "text/plain": [
       "          Unnamed: 0            fit       item_id         rating  \\\n",
       "count  192544.000000  192544.000000  1.925440e+05  192544.000000   \n",
       "mean    96271.500000       0.396091  1.045684e+06       9.088499   \n",
       "std     55582.809453       0.712024  8.053148e+05       1.441995   \n",
       "min         0.000000       0.000000  1.233730e+05       0.000000   \n",
       "25%     48135.750000       0.000000  1.950760e+05       8.000000   \n",
       "50%     96271.500000       0.000000  9.483960e+05      10.000000   \n",
       "75%    144407.250000       1.000000  1.678888e+06      10.000000   \n",
       "max    192543.000000       2.000000  2.966087e+06      10.000000   \n",
       "\n",
       "                size            age    review_date  \n",
       "count  192544.000000  192544.000000  192544.000000  \n",
       "mean       12.245175      33.702141    1182.783089  \n",
       "std         8.494877       8.384539     669.944180  \n",
       "min         0.000000       0.000000       0.000000  \n",
       "25%         8.000000      29.000000     583.000000  \n",
       "50%        12.000000      32.000000    1225.000000  \n",
       "75%        16.000000      37.000000    1760.000000  \n",
       "max        58.000000     117.000000    2273.000000  "
      ]
     },
     "execution_count": 92,
     "metadata": {},
     "output_type": "execute_result"
    }
   ],
   "source": [
    "df.describe()"
   ]
  },
  {
   "cell_type": "markdown",
   "id": "8fade128",
   "metadata": {},
   "source": [
    "10. Are there outliers present in the column age? If yes, treat them with the\n",
    "appropriate method."
   ]
  },
  {
   "cell_type": "code",
   "execution_count": 59,
   "id": "6f40a147",
   "metadata": {},
   "outputs": [],
   "source": [
    "df1 = df.copy()"
   ]
  },
  {
   "cell_type": "code",
   "execution_count": 62,
   "id": "ea3efa09",
   "metadata": {
    "scrolled": true
   },
   "outputs": [
    {
     "data": {
      "text/plain": [
       "<Axes: >"
      ]
     },
     "execution_count": 62,
     "metadata": {},
     "output_type": "execute_result"
    },
    {
     "data": {
      "image/png": "[encoded data removed]",
      "text/plain": [
       "<Figure size 640x480 with 1 Axes>"
      ]
     },
     "metadata": {},
     "output_type": "display_data"
    }
   ],
   "source": [
    "sns.boxplot(df['age'])"
   ]
  },
  {
   "cell_type": "code",
   "execution_count": 63,
   "id": "fa78f4b4",
   "metadata": {},
   "outputs": [
    {
     "name": "stdout",
     "output_type": "stream",
     "text": [
      "29.0\n",
      "37.0\n",
      "8.0\n"
     ]
    }
   ],
   "source": [
    "#using IQR method\n",
    "Q1 = df1['age'].quantile(0.25)\n",
    "Q3 = df1['age'].quantile(0.75)\n",
    "IQR = Q3-Q1\n",
    "print(Q1)\n",
    "print(Q3)\n",
    "print(IQR)\n"
   ]
  },
  {
   "cell_type": "code",
   "execution_count": 64,
   "id": "bc90cdc6",
   "metadata": {},
   "outputs": [
    {
     "name": "stdout",
     "output_type": "stream",
     "text": [
      "17.0\n",
      "49.0\n"
     ]
    }
   ],
   "source": [
    "lower_whisker = Q1-(1.5*IQR)\n",
    "upper_whisker = Q3+(1.5*IQR)\n",
    "print(lower_whisker)\n",
    "print(upper_whisker)"
   ]
  },
  {
   "cell_type": "code",
   "execution_count": 70,
   "id": "3399f5e9",
   "metadata": {},
   "outputs": [
    {
     "data": {
      "text/html": [
       "<div>\n",
       "<style scoped>\n",
       "    .dataframe tbody tr th:only-of-type {\n",
       "        vertical-align: middle;\n",
       "    }\n",
       "\n",
       "    .dataframe tbody tr th {\n",
       "        vertical-align: top;\n",
       "    }\n",
       "\n",
       "    .dataframe thead th {\n",
       "        text-align: right;\n",
       "    }\n",
       "</style>\n",
       "<table border=\"1\" class=\"dataframe\">\n",
       "  <thead>\n",
       "    <tr style=\"text-align: right;\">\n",
       "      <th></th>\n",
       "      <th>Unnamed: 0</th>\n",
       "      <th>fit</th>\n",
       "      <th>bust size</th>\n",
       "      <th>item_id</th>\n",
       "      <th>weight</th>\n",
       "      <th>rating</th>\n",
       "      <th>rented for</th>\n",
       "      <th>body type</th>\n",
       "      <th>category</th>\n",
       "      <th>height</th>\n",
       "      <th>size</th>\n",
       "      <th>age</th>\n",
       "      <th>review_date</th>\n",
       "    </tr>\n",
       "  </thead>\n",
       "  <tbody>\n",
       "    <tr>\n",
       "      <th>0</th>\n",
       "      <td>0</td>\n",
       "      <td>fit</td>\n",
       "      <td>34d</td>\n",
       "      <td>2260466</td>\n",
       "      <td>137</td>\n",
       "      <td>10.0</td>\n",
       "      <td>vacation</td>\n",
       "      <td>hourglass</td>\n",
       "      <td>romper</td>\n",
       "      <td>5' 8\"</td>\n",
       "      <td>14</td>\n",
       "      <td>28.0</td>\n",
       "      <td>April 20, 2016</td>\n",
       "    </tr>\n",
       "    <tr>\n",
       "      <th>1</th>\n",
       "      <td>1</td>\n",
       "      <td>fit</td>\n",
       "      <td>34b</td>\n",
       "      <td>153475</td>\n",
       "      <td>132</td>\n",
       "      <td>10.0</td>\n",
       "      <td>other</td>\n",
       "      <td>straight &amp; narrow</td>\n",
       "      <td>gown</td>\n",
       "      <td>5' 6\"</td>\n",
       "      <td>12</td>\n",
       "      <td>36.0</td>\n",
       "      <td>June 18, 2013</td>\n",
       "    </tr>\n",
       "    <tr>\n",
       "      <th>3</th>\n",
       "      <td>3</td>\n",
       "      <td>fit</td>\n",
       "      <td>34c</td>\n",
       "      <td>126335</td>\n",
       "      <td>135</td>\n",
       "      <td>8.0</td>\n",
       "      <td>formal affair</td>\n",
       "      <td>pear</td>\n",
       "      <td>dress</td>\n",
       "      <td>5' 5\"</td>\n",
       "      <td>8</td>\n",
       "      <td>34.0</td>\n",
       "      <td>February 12, 2014</td>\n",
       "    </tr>\n",
       "    <tr>\n",
       "      <th>4</th>\n",
       "      <td>4</td>\n",
       "      <td>fit</td>\n",
       "      <td>34b</td>\n",
       "      <td>616682</td>\n",
       "      <td>145</td>\n",
       "      <td>10.0</td>\n",
       "      <td>wedding</td>\n",
       "      <td>athletic</td>\n",
       "      <td>gown</td>\n",
       "      <td>5' 9\"</td>\n",
       "      <td>12</td>\n",
       "      <td>27.0</td>\n",
       "      <td>September 26, 2016</td>\n",
       "    </tr>\n",
       "    <tr>\n",
       "      <th>5</th>\n",
       "      <td>5</td>\n",
       "      <td>fit</td>\n",
       "      <td>32b</td>\n",
       "      <td>364092</td>\n",
       "      <td>138</td>\n",
       "      <td>8.0</td>\n",
       "      <td>date</td>\n",
       "      <td>athletic</td>\n",
       "      <td>dress</td>\n",
       "      <td>5' 8\"</td>\n",
       "      <td>8</td>\n",
       "      <td>45.0</td>\n",
       "      <td>April 30, 2016</td>\n",
       "    </tr>\n",
       "  </tbody>\n",
       "</table>\n",
       "</div>"
      ],
      "text/plain": [
       "   Unnamed: 0  fit bust size  item_id weight  rating     rented for  \\\n",
       "0           0  fit       34d  2260466    137    10.0       vacation   \n",
       "1           1  fit       34b   153475    132    10.0          other   \n",
       "3           3  fit       34c   126335    135     8.0  formal affair   \n",
       "4           4  fit       34b   616682    145    10.0        wedding   \n",
       "5           5  fit       32b   364092    138     8.0           date   \n",
       "\n",
       "           body type category height  size   age         review_date  \n",
       "0          hourglass   romper  5' 8\"    14  28.0      April 20, 2016  \n",
       "1  straight & narrow     gown  5' 6\"    12  36.0       June 18, 2013  \n",
       "3               pear    dress  5' 5\"     8  34.0   February 12, 2014  \n",
       "4           athletic     gown  5' 9\"    12  27.0  September 26, 2016  \n",
       "5           athletic    dress  5' 8\"     8  45.0      April 30, 2016  "
      ]
     },
     "execution_count": 70,
     "metadata": {},
     "output_type": "execute_result"
    }
   ],
   "source": [
    "df1_out = df1.loc [(df1['age'] < upper_whisker) & (df1['age'] > lower_whisker)]\n",
    "df1_out.shape\n",
    "df1_out.head()"
   ]
  },
  {
   "cell_type": "code",
   "execution_count": 71,
   "id": "077a6b26",
   "metadata": {},
   "outputs": [
    {
     "data": {
      "text/plain": [
       "<Axes: >"
      ]
     },
     "execution_count": 71,
     "metadata": {},
     "output_type": "execute_result"
    },
    {
     "data": {
      "image/png": "[encoded data removed]",
      "text/plain": [
       "<Figure size 640x480 with 1 Axes>"
      ]
     },
     "metadata": {},
     "output_type": "display_data"
    }
   ],
   "source": [
    "sns.boxplot(df1_out.age)"
   ]
  },
  {
   "cell_type": "markdown",
   "id": "5113d76e",
   "metadata": {},
   "source": [
    "11. Check the distribution of the different categories in the column 'rented for'\n",
    "using appropriate plot. "
   ]
  },
  {
   "cell_type": "code",
   "execution_count": 73,
   "id": "15d9ff31",
   "metadata": {},
   "outputs": [
    {
     "data": {
      "image/png": "[encoded data removed]",
      "text/plain": [
       "<Figure size 640x480 with 1 Axes>"
      ]
     },
     "metadata": {},
     "output_type": "display_data"
    }
   ],
   "source": [
    "df1['rented for'].value_counts().plot(kind='pie',autopct='%1.1f%%')\n",
    "plt.show()"
   ]
  },
  {
   "cell_type": "markdown",
   "id": "4bf8d971",
   "metadata": {},
   "source": [
    "12. Encode the categorical variables in the dataset."
   ]
  },
  {
   "cell_type": "code",
   "execution_count": 85,
   "id": "ccbb761e",
   "metadata": {},
   "outputs": [
    {
     "name": "stdout",
     "output_type": "stream",
     "text": [
      "<class 'pandas.core.frame.DataFrame'>\n",
      "RangeIndex: 192544 entries, 0 to 192543\n",
      "Data columns (total 13 columns):\n",
      " #   Column       Non-Null Count   Dtype  \n",
      "---  ------       --------------   -----  \n",
      " 0   Unnamed: 0   192544 non-null  int64  \n",
      " 1   fit          192544 non-null  object \n",
      " 2   bust size    192544 non-null  object \n",
      " 3   item_id      192544 non-null  int64  \n",
      " 4   weight       192544 non-null  object \n",
      " 5   rating       192544 non-null  float64\n",
      " 6   rented for   192544 non-null  object \n",
      " 7   body type    192544 non-null  object \n",
      " 8   category     192544 non-null  object \n",
      " 9   height       192544 non-null  object \n",
      " 10  size         192544 non-null  int64  \n",
      " 11  age          192544 non-null  float64\n",
      " 12  review_date  192544 non-null  object \n",
      "dtypes: float64(2), int64(3), object(8)\n",
      "memory usage: 19.1+ MB\n"
     ]
    }
   ],
   "source": [
    "df1.info()"
   ]
  },
  {
   "cell_type": "code",
   "execution_count": null,
   "id": "acb8eb3e",
   "metadata": {},
   "outputs": [],
   "source": [
    "from sklearn.preprocessing import LabelEncoder\n",
    "for col in df1.select_dtypes('object').columns:\n",
    "   le=LabelEncoder()\n",
    "df1[col]=le.fit_transform(df1[col])"
   ]
  },
  {
   "cell_type": "code",
   "execution_count": null,
   "id": "28c9d0b6",
   "metadata": {},
   "outputs": [],
   "source": [
    "cate=['fit','bust size','weight','rented for','body type','category','height']\n",
    "lbl_encode = LabelEncoder()\n",
    "for i in cate:\n",
    "    df1[i]=df1[[i]].apply(lbl_encode.fit_transform)"
   ]
  },
  {
   "cell_type": "markdown",
   "id": "1afd7f54",
   "metadata": {},
   "source": [
    "13. Standardize the data, so that the values are within a particular range."
   ]
  },
  {
   "cell_type": "code",
   "execution_count": null,
   "id": "80e34455",
   "metadata": {},
   "outputs": [],
   "source": [
    "import StandardScaler\n",
    "scaled_features = StandardScaler().fit_transform(df1.values)\n",
    "scaled_features_df = pd.Dataframe(scaled_features,index=df1.index,columns=df1.columns)"
   ]
  },
  {
   "cell_type": "markdown",
   "id": "8a73f608",
   "metadata": {},
   "source": [
    "14. Apply PCA on the above dataset and determine the number of PCA\n",
    "components to be used so that 90-95% of the variance in data is explained by\n",
    "the same."
   ]
  },
  {
   "cell_type": "code",
   "execution_count": null,
   "id": "90388c16",
   "metadata": {},
   "outputs": [],
   "source": [
    "cov_matrix = np.cov(scaled_features.T)\n",
    "cov_matrix"
   ]
  },
  {
   "cell_type": "code",
   "execution_count": null,
   "id": "6db2660b",
   "metadata": {},
   "outputs": [],
   "source": [
    "eig_vals,eig_vectors = np.linalg.eig(cov_matrix)\n",
    "print('eigein vals:','\\n',eig_vals)\n",
    "print('\\n')\n",
    "print('eigein_vectors','\\n',eig_vectors)"
   ]
  },
  {
   "cell_type": "code",
   "execution_count": null,
   "id": "c0eef5a6",
   "metadata": {},
   "outputs": [],
   "source": [
    "total = sum(eig_vals)\n",
    "var_exp = [(i/total*100 for i in sorted(eig_vals,reverse=True))]\n",
    "cum_var_exp = np.cumsum(var_exp)\n",
    "print('Explained Variance:'var_exp)\n",
    "print('Cummilative Variance Explained:'cum_var_exp) "
   ]
  },
  {
   "cell_type": "code",
   "execution_count": null,
   "id": "ac850327",
   "metadata": {},
   "outputs": [],
   "source": [
    "plt.bar(range(10),var_exp,align='centre',color='lightgreen',edgecolor='black',label='Explained Variable')\n",
    "plt.step(range(10),cum_var_exp,where='mid',color='red',label='Cummulative Explained Variance')\n",
    "plt.xlabel('Principal Components')\n",
    "plt.ylabel('Explained Variance ratio')\n",
    "plt.title('Screen Plot')\n",
    "plt.legend(loc='best')\n",
    "plt.show()"
   ]
  },
  {
   "cell_type": "markdown",
   "id": "e475373a",
   "metadata": {},
   "source": [
    "15. Apply K-means clustering and segment the data. (You may use original\n",
    "data or PCA transformed data) "
   ]
  },
  {
   "cell_type": "code",
   "execution_count": null,
   "id": "e75fe1dc",
   "metadata": {},
   "outputs": [],
   "source": [
    "pca = PCA(n_componenets=8)\n",
    "pca_df = pd.DataFrame(pca.fit_transform(scaled_features_df),columns=['PC1','PC2','PC3','PC4','PC5','PC6','PC7','PC8'])\n",
    "pca_df.head()"
   ]
  },
  {
   "cell_type": "code",
   "execution_count": null,
   "id": "44805c9a",
   "metadata": {},
   "outputs": [],
   "source": [
    "cluster_errors = []\n",
    "cluster_range = (2,15)\n",
    "for num_cluster in cluster_range:\n",
    "    clusters = KMeans(num_clusters,random_state=100)\n",
    "    clusters.fit(pca_df)\n",
    "    cluster_errors.append(clusters.inertia_)\n"
   ]
  },
  {
   "cell_type": "code",
   "execution_count": null,
   "id": "42c47c14",
   "metadata": {},
   "outputs": [],
   "source": [
    "Cluster_df = pd.DataFrame({'num_clusters':cluster_range,'cluster_errors':cluster_errors})\n",
    "\n",
    "plt.figure(figsize=[15,5])\n",
    "plt.plot(cluster_df['num_clusters'],cluster_df['cluster_errors'],marker=0,color='b')"
   ]
  },
  {
   "cell_type": "code",
   "execution_count": null,
   "id": "31453cd6",
   "metadata": {},
   "outputs": [],
   "source": [
    "kmeans = KMeans(n_clusters=3,random_state=100)\n",
    "kmeans.fit(pca_df)"
   ]
  },
  {
   "cell_type": "code",
   "execution_count": null,
   "id": "e998cd5f",
   "metadata": {},
   "outputs": [],
   "source": [
    "label = pd.DataFrame(kmeans.labels_,columns=['Label'])"
   ]
  },
  {
   "cell_type": "code",
   "execution_count": null,
   "id": "ce9d4f8b",
   "metadata": {},
   "outputs": [],
   "source": [
    "kmeans_df = pca_df.join(lable)\n",
    "kmeans_df.head()"
   ]
  },
  {
   "cell_type": "code",
   "execution_count": null,
   "id": "2c8feb4f",
   "metadata": {},
   "outputs": [],
   "source": [
    "kmeans_df['Label'].value_counts()"
   ]
  },
  {
   "cell_type": "code",
   "execution_count": null,
   "id": "c099708b",
   "metadata": {},
   "outputs": [],
   "source": [
    "sns.scatterplot(kmeans_df['PC1'],Kmeans_df['PC2'],hue='Label',data=kmeans_df)\n",
    "plt.show()"
   ]
  },
  {
   "cell_type": "markdown",
   "id": "1d13a394",
   "metadata": {},
   "source": [
    "16. Apply Agglomerative clustering and segment the data. (You may use\n",
    "original data or PCA transformed data)"
   ]
  },
  {
   "cell_type": "code",
   "execution_count": null,
   "id": "3f3f02cf",
   "metadata": {},
   "outputs": [],
   "source": [
    "plt.figure(figsize=[18,5])\n",
    "merg = linkage(scaled_features,method='ward')\n",
    "dendrogram(merg,leaf_rotation=90)\n",
    "plt.xlabel('Datapoints')\n",
    "plt.ylabel('Euclidean distance')\n",
    "plt.show()"
   ]
  },
  {
   "cell_type": "code",
   "execution_count": null,
   "id": "f7e19a19",
   "metadata": {},
   "outputs": [],
   "source": [
    "from sklearn.metrics import silhouette_score"
   ]
  },
  {
   "cell_type": "code",
   "execution_count": null,
   "id": "ea41accb",
   "metadata": {},
   "outputs": [],
   "source": [
    "for i in range(2,15):\n",
    "    heir=AgglomerativeClustering(n_clusters=i)\n",
    "    heir=heir.fit(scaled_features_df)\n",
    "    labels=heir.fit_predict(scaled_features_df)\n",
    "    print(i,silhouette_score(scaled_features_d,labels))"
   ]
  },
  {
   "cell_type": "code",
   "execution_count": null,
   "id": "6df8be10",
   "metadata": {},
   "outputs": [],
   "source": [
    "hei_cluster = AgglomerativeClustering(n_clusters=3,affinity='euclidean',linkage='ward')\n",
    "hei_cluster_model = hei_cluster.fit(scaled_features_df)"
   ]
  },
  {
   "cell_type": "code",
   "execution_count": null,
   "id": "8c49ddbb",
   "metadata": {},
   "outputs": [],
   "source": [
    "df_label1=pd.DataFrame(hei_cluster_model.labels_,columns=['Labels'])\n",
    "df_label1.head(5)"
   ]
  },
  {
   "cell_type": "code",
   "execution_count": null,
   "id": "52fea473",
   "metadata": {},
   "outputs": [],
   "source": [
    "df_heir=dfc.join(df_label1)\n",
    "df_heir.head()"
   ]
  }
 ],
 "metadata": {
  "kernelspec": {
   "display_name": "Python 3 (ipykernel)",
   "language": "python",
   "name": "python3"
  },
  "language_info": {
   "codemirror_mode": {
    "name": "ipython",
    "version": 3
   },
   "file_extension": ".py",
   "mimetype": "text/x-python",
   "name": "python",
   "nbconvert_exporter": "python",
   "pygments_lexer": "ipython3",
   "version": "3.11.5"
  }
 },
 "nbformat": 4,
 "nbformat_minor": 5
}
