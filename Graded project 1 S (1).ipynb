{
 "cells": [
  {
   "cell_type": "code",
   "execution_count": null,
   "id": "10ee9786",
   "metadata": {},
   "outputs": [],
   "source": [
    "#Q1\n",
    "import numpy as np\n",
    "import pandas as pd\n",
    "import seaborn as sns\n",
    "import matplotlib.pyplot as plt\n",
    "\n",
    "import warnings\n",
    "%matplotlib inline\n",
    "warnings.filterwarnings(action='ignore')"
   ]
  },
  {
   "cell_type": "code",
   "execution_count": null,
   "id": "6b9f00af",
   "metadata": {},
   "outputs": [],
   "source": [
    "pd.set_option(\"display.max_columns\", None)"
   ]
  },
  {
   "cell_type": "code",
   "execution_count": null,
   "id": "363388dc",
   "metadata": {},
   "outputs": [],
   "source": [
    "df = pd.read_csv('fifa.csv')\n",
    "df.head()"
   ]
  },
  {
   "cell_type": "code",
   "execution_count": null,
   "id": "0f742786",
   "metadata": {},
   "outputs": [],
   "source": [
    "data_info = pd.read_csv('fifa_ variable_information.csv')\n",
    "data_info.head()"
   ]
  },
  {
   "cell_type": "code",
   "execution_count": null,
   "id": "864e680c",
   "metadata": {},
   "outputs": [],
   "source": [
    "#Q2\n",
    "df[['Photo','Flag','Club Logo','Body Type','Jersey Number']].head(2)"
   ]
  },
  {
   "cell_type": "code",
   "execution_count": null,
   "id": "91b72991",
   "metadata": {},
   "outputs": [],
   "source": [
    "df.drop(['Photo','Flag','Club Logo','Body Type','Jersey Number'],axis=1,inplace=True)"
   ]
  },
  {
   "cell_type": "code",
   "execution_count": null,
   "id": "e494b450",
   "metadata": {},
   "outputs": [],
   "source": [
    "df.shape"
   ]
  },
  {
   "cell_type": "code",
   "execution_count": null,
   "id": "2a3ad813",
   "metadata": {},
   "outputs": [],
   "source": [
    "#Q3\n",
    "df[['Value','Wage','Release Clause']].sample(4)"
   ]
  },
  {
   "cell_type": "code",
   "execution_count": null,
   "id": "ca91e3a2",
   "metadata": {},
   "outputs": [],
   "source": [
    "def convert(entry):\n",
    "    \n",
    "    if entry==np.nan:\n",
    "        new_entry=float(0)\n",
    "    else:\n",
    "        entry=entry.replace('€','')\n",
    "        if entry[-1]=='K':\n",
    "            new_entry=float(entry.replace('K',''))*1000\n",
    "        else:\n",
    "            new_entry=float(entry.replace('M',''))*1000000\n",
    "    return new_entry"
   ]
  },
  {
   "cell_type": "code",
   "execution_count": null,
   "id": "0291956d",
   "metadata": {},
   "outputs": [],
   "source": [
    "df['Value']= df['Value'].apply(lambda x : convert(x))\n",
    "\n",
    "df['Wage'] = df['Wage'].apply(lambda x: convert(x))\n",
    " \n",
    "df['Release Clause'] = df['Release Clause'].fillna('0').apply(lambda x: convert(x)"
   ]
  },
  {
   "cell_type": "code",
   "execution_count": null,
   "id": "8f560e90",
   "metadata": {},
   "outputs": [],
   "source": [
    "df[['Value','Wage','Release Clause']].sample(4)"
   ]
  },
  {
   "cell_type": "code",
   "execution_count": null,
   "id": "8ed0106a",
   "metadata": {},
   "outputs": [],
   "source": [
    "#Q4\n",
    "df['Joined'].head()"
   ]
  },
  {
   "cell_type": "code",
   "execution_count": null,
   "id": "3efabacb",
   "metadata": {},
   "outputs": [],
   "source": [
    "df['Joined'] = df['Joined'].str.split().str.get(2).fillna(0).astype(int)"
   ]
  },
  {
   "cell_type": "code",
   "execution_count": null,
   "id": "8004c12c",
   "metadata": {},
   "outputs": [],
   "source": [
    "df['Joined'] = df['Joined'].str.split().str.get(2).fillna(0).astype(int)"
   ]
  },
  {
   "cell_type": "code",
   "execution_count": null,
   "id": "cdf6ee45",
   "metadata": {},
   "outputs": [],
   "source": [
    "#Q5\n",
    "df['Contract Valid Until'].unique()"
   ]
  },
  {
   "cell_type": "code",
   "execution_count": null,
   "id": "1a7f3abc",
   "metadata": {},
   "outputs": [],
   "source": [
    "df['Contract Valid Until'] = pd.to_datetime(df['Contract Valid Until'])"
   ]
  },
  {
   "cell_type": "code",
   "execution_count": null,
   "id": "3400f7c8",
   "metadata": {},
   "outputs": [],
   "source": [
    "df['Contract Valid Until'].sample(5)"
   ]
  },
  {
   "cell_type": "code",
   "execution_count": null,
   "id": "272f7314",
   "metadata": {},
   "outputs": [],
   "source": [
    "#Q6\n",
    "df['Height'].head()"
   ]
  },
  {
   "cell_type": "code",
   "execution_count": null,
   "id": "ad398300",
   "metadata": {},
   "outputs": [],
   "source": [
    "def height_convert(x):\n",
    "    if x is not None:\n",
    "        return float(str(x).replace(\"'\",'.'))"
   ]
  },
  {
   "cell_type": "code",
   "execution_count": null,
   "id": "02664dc4",
   "metadata": {},
   "outputs": [],
   "source": [
    "df['Height'] = df['Height'].apply(height_convert)"
   ]
  },
  {
   "cell_type": "code",
   "execution_count": null,
   "id": "4a90ea90",
   "metadata": {},
   "outputs": [],
   "source": [
    "df['Height'].head()"
   ]
  },
  {
   "cell_type": "code",
   "execution_count": null,
   "id": "15f2c791",
   "metadata": {},
   "outputs": [],
   "source": [
    "#Q7\n",
    "df['Weight'].head()"
   ]
  },
  {
   "cell_type": "code",
   "execution_count": null,
   "id": "a48c0187",
   "metadata": {},
   "outputs": [],
   "source": [
    "df['Weight'] = df['Weight'].fillna('0').apply(lambda x: x.replace('lbs','')).astype(float)"
   ]
  },
  {
   "cell_type": "code",
   "execution_count": null,
   "id": "685588dc",
   "metadata": {},
   "outputs": [],
   "source": [
    "df['Weight'].head()"
   ]
  },
  {
   "cell_type": "code",
   "execution_count": null,
   "id": "34cbeb6a",
   "metadata": {},
   "outputs": [],
   "source": [
    "#Q8\n",
    "df.isnull().sum()/len(df)*100"
   ]
  },
  {
   "cell_type": "code",
   "execution_count": null,
   "id": "17fd7ae1",
   "metadata": {},
   "outputs": [],
   "source": [
    "df.drop('Loaned From',axis=1,inplace=True)"
   ]
  },
  {
   "cell_type": "code",
   "execution_count": null,
   "id": "9725a8b0",
   "metadata": {},
   "outputs": [],
   "source": [
    "missing_values = df.isnull().sum()/len(df)\n",
    "\n",
    "index = [i  for i in missing_values[missing_values>0].index]\n",
    "\n",
    "numerical_columns = [i     for i in index      if i in df.columns and  df[i].dtype!=object]\n",
    "categorical_columns = [i     for i in index      if i in df.columns and  df[i].dtype==object]\n",
    "\n",
    "for columns in numerical_columns:\n",
    "    df[columns]=df[columns].fillna(df[columns].median())\n",
    "    \n",
    "for columns in categorical_columns:\n",
    "    df[columns]=df[columns].fillna(df[columns].mode()[0])"
   ]
  },
  {
   "cell_type": "code",
   "execution_count": null,
   "id": "1862fcf4",
   "metadata": {},
   "outputs": [],
   "source": [
    "df.isnull().sum()"
   ]
  },
  {
   "cell_type": "code",
   "execution_count": null,
   "id": "1edfd52e",
   "metadata": {},
   "outputs": [],
   "source": [
    "#Q9\n",
    "sns.distplot(df['Overall'])\n",
    "plt.show()"
   ]
  },
  {
   "cell_type": "code",
   "execution_count": null,
   "id": "ab56031d",
   "metadata": {},
   "outputs": [],
   "source": [
    "#Q10\n",
    "top20_players = df.groupby('Name')['Overall'].max().sort_values(ascending=False).head(20)\n",
    "top20_players"
   ]
  },
  {
   "cell_type": "code",
   "execution_count": null,
   "id": "045dc023",
   "metadata": {},
   "outputs": [],
   "source": [
    "#Q11\n",
    "Top20_df = df[ (df['Name'].isin(top20_players.index)) & (df['Overall'].isin(top20_players.values)) ]\n",
    "Top20_df.head()"
   ]
  },
  {
   "cell_type": "code",
   "execution_count": null,
   "id": "94dbd23a",
   "metadata": {},
   "outputs": [],
   "source": [
    "#Q12\n",
    "Top20_df[['Age','Wage']].mean()"
   ]
  },
  {
   "cell_type": "code",
   "execution_count": null,
   "id": "96e9f1bb",
   "metadata": {},
   "outputs": [],
   "source": [
    "#Q!3\n",
    "Top20_df[Top20_df['Wage']==Top20_df['Wage'].max()][['Name','Wage']]"
   ]
  },
  {
   "cell_type": "code",
   "execution_count": null,
   "id": "ecfffa38",
   "metadata": {},
   "outputs": [],
   "source": [
    "#Q14\n",
    "df_14 = df[['Name','Club','Wage','Overall']]\n",
    "df_14.head(2)"
   ]
  },
  {
   "cell_type": "code",
   "execution_count": null,
   "id": "d9f786e9",
   "metadata": {},
   "outputs": [],
   "source": [
    "df_14.groupby('Club')['Overall'].mean()"
   ]
  },
  {
   "cell_type": "code",
   "execution_count": null,
   "id": "3d14529d",
   "metadata": {},
   "outputs": [],
   "source": [
    "df_14.groupby('Club')['Overall'].mean().sort_values(ascending=False).head(10).plot(kind='bar')\n",
    "plt.show()"
   ]
  },
  {
   "cell_type": "code",
   "execution_count": null,
   "id": "634e7fba",
   "metadata": {},
   "outputs": [],
   "source": [
    "#Q15\n",
    "plt.figure(figsize=(18,5))\n",
    "sns.boxplot(df['Age'],df['Potential'])\n",
    "plt.show()"
   ]
  },
  {
   "cell_type": "code",
   "execution_count": null,
   "id": "a508192e",
   "metadata": {},
   "outputs": [],
   "source": [
    "#Q16\n",
    "imp_features = df[['Potential','Overall','Value','International Reputation','Release Clause','Wage', ]]\n",
    "\n",
    "sns.heatmap(imp_features.corr(),annot=True,cmap='viridis')\n",
    "plt.show()"
   ]
  },
  {
   "cell_type": "code",
   "execution_count": null,
   "id": "193b114b",
   "metadata": {},
   "outputs": [],
   "source": [
    "sns.pairplot(imp_features)\n",
    "plt.show()"
   ]
  },
  {
   "cell_type": "code",
   "execution_count": null,
   "id": "a4cef809",
   "metadata": {},
   "outputs": [],
   "source": [
    "#Q17\n",
    "df['Position'].value_counts().sort_values(ascending=False).head(1)"
   ]
  },
  {
   "cell_type": "code",
   "execution_count": null,
   "id": "739ef9d8",
   "metadata": {},
   "outputs": [],
   "source": [
    "df['Position'].value_counts().sort_values(ascending=True).head(1)"
   ]
  },
  {
   "cell_type": "code",
   "execution_count": null,
   "id": "43cc48c8",
   "metadata": {},
   "outputs": [],
   "source": [
    "plt.figure(figsize=(18,5))\n",
    "sns.histplot(df['Position'])\n",
    "plt.show()"
   ]
  },
  {
   "cell_type": "code",
   "execution_count": null,
   "id": "57440dcf",
   "metadata": {},
   "outputs": [],
   "source": [
    "#Q18\n",
    "df[(df['Club']=='Juventus') & (df['Wage']>200000)]"
   ]
  },
  {
   "cell_type": "code",
   "execution_count": null,
   "id": "8b7335ac",
   "metadata": {},
   "outputs": [],
   "source": [
    "#Q19\n",
    "top5 = df.groupby(['Position']).apply(lambda x : x.sort_values('Overall',ascending=False).head(5))\n",
    "top5.head(10)"
   ]
  },
  {
   "cell_type": "code",
   "execution_count": null,
   "id": "2bdbadd3",
   "metadata": {},
   "outputs": [],
   "source": [
    "#Q20\n",
    "top5['Wage'].groupby('Position').mean()"
   ]
  }
 ],
 "metadata": {
  "kernelspec": {
   "display_name": "Python 3 (ipykernel)",
   "language": "python",
   "name": "python3"
  },
  "language_info": {
   "codemirror_mode": {
    "name": "ipython",
    "version": 3
   },
   "file_extension": ".py",
   "mimetype": "text/x-python",
   "name": "python",
   "nbconvert_exporter": "python",
   "pygments_lexer": "ipython3",
   "version": "3.11.5"
  }
 },
 "nbformat": 4,
 "nbformat_minor": 5
}
